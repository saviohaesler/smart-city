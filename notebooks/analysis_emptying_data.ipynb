{
 "cells": [
  {
   "cell_type": "markdown",
   "id": "8b1eeb8b-81f3-4bfc-8e43-c8271e5d57c6",
   "metadata": {},
   "source": [
    "### Kübelfüllung Analyse\n",
    "Hier haben wir die Analyse wie schnell sich jeder einzelne Kübel fühlt. Die Analyse basiert noch auf der alten Datenbankarchitektur und müsse somit angepasst werden."
   ]
  },
  {
   "cell_type": "code",
   "execution_count": 1,
   "id": "edb179da-6eb0-46c7-8409-b8351fd322e9",
   "metadata": {},
   "outputs": [],
   "source": [
    "from pyspark.sql import SparkSession\n",
    "import uuid\n",
    "import random\n",
    "import datetime\n",
    "import numpy as np\n",
    "\n",
    "spark = SparkSession.builder \\\n",
    "    .appName(\"SmartLitter\") \\\n",
    "    .getOrCreate()\n",
    "\n",
    "jdbc_url = \"jdbc:postgresql://db:5432/litter_db\"\n",
    "connection_properties = {\n",
    "    \"user\": \"root\",\n",
    "    \"password\": \"pwd123\",\n",
    "    \"driver\": \"org.postgresql.Driver\",\n",
    "    \"stringtype\": \"unspecified\"\n",
    "}"
   ]
  },
  {
   "cell_type": "code",
   "execution_count": 2,
   "id": "5e4b1e5c-730f-4073-bf61-44a74b9b7d89",
   "metadata": {},
   "outputs": [
    {
     "data": {
      "text/plain": [
       "[Row(emptying_uuid='15bb74a3-62be-44f6-a55a-ab1e0a3b3356', fk_litter_bin_uuid='77d3ae5f-359a-4756-b42a-fd5f94127ec3', liter=16, point_in_time=datetime.datetime(2024, 6, 9, 5, 16), bin_full=True),\n",
       " Row(emptying_uuid='0b5381f7-01d3-4e35-bd9f-ddd1936da58c', fk_litter_bin_uuid='77d3ae5f-359a-4756-b42a-fd5f94127ec3', liter=22, point_in_time=datetime.datetime(2024, 6, 10, 9, 57), bin_full=True),\n",
       " Row(emptying_uuid='6dfb870c-139f-4653-95ce-e6306d726a30', fk_litter_bin_uuid='77d3ae5f-359a-4756-b42a-fd5f94127ec3', liter=27, point_in_time=datetime.datetime(2024, 6, 11, 6, 3), bin_full=True)]"
      ]
     },
     "execution_count": 2,
     "metadata": {},
     "output_type": "execute_result"
    }
   ],
   "source": [
    "litter_bin_emptying_df = spark.read.jdbc(\n",
    "    url=jdbc_url,\n",
    "    table=\"litter_bin_emptying\",\n",
    "    properties=connection_properties\n",
    ")\n",
    "\n",
    "litter_bin_emptying_df.head(3)"
   ]
  },
  {
   "cell_type": "code",
   "execution_count": 5,
   "id": "9a3d940e-c8d7-44bb-b78e-d97aa204d4f1",
   "metadata": {},
   "outputs": [
    {
     "name": "stdout",
     "output_type": "stream",
     "text": [
      "+--------------------+--------------------+-----+-------------------+--------+\n",
      "|       emptying_uuid|  fk_litter_bin_uuid|liter|      point_in_time|bin_full|\n",
      "+--------------------+--------------------+-----+-------------------+--------+\n",
      "|d78df067-4d2f-4af...|77d3ae5f-359a-475...|   35|2024-11-12 07:06:00|    true|\n",
      "|b5abf799-17b2-491...|77d3ae5f-359a-475...|   18|2024-11-11 07:57:00|    true|\n",
      "|8d8cb44c-064f-477...|77d3ae5f-359a-475...|   15|2024-11-10 06:07:00|    true|\n",
      "|02f12522-f18c-4a0...|77d3ae5f-359a-475...|   30|2024-11-09 08:17:00|    true|\n",
      "|b6b3c7e9-47fe-421...|77d3ae5f-359a-475...|   25|2024-11-08 04:54:00|    true|\n",
      "|ebd32cd4-af5c-4d9...|77d3ae5f-359a-475...|   29|2024-11-07 10:44:00|    true|\n",
      "|0a951353-89ac-452...|77d3ae5f-359a-475...|   20|2024-11-06 05:20:00|   false|\n",
      "|4c15fde6-b932-45f...|77d3ae5f-359a-475...|   37|2024-11-05 08:50:00|    true|\n",
      "|6258101f-dc1f-411...|77d3ae5f-359a-475...|   40|2024-11-04 07:35:00|   false|\n",
      "|aec4be16-ab15-451...|77d3ae5f-359a-475...|   35|2024-11-03 09:40:00|    true|\n",
      "|79440a71-5fb6-41e...|77d3ae5f-359a-475...|   19|2024-11-02 08:43:00|   false|\n",
      "|ef3b880f-540f-435...|77d3ae5f-359a-475...|   29|2024-11-01 07:11:00|    true|\n",
      "|4e54be42-88f8-49e...|77d3ae5f-359a-475...|   33|2024-10-31 11:00:00|   false|\n",
      "|2cc30bff-85ed-4fe...|77d3ae5f-359a-475...|   23|2024-10-30 06:13:00|   false|\n",
      "|4fd45958-d151-4ce...|77d3ae5f-359a-475...|   32|2024-10-29 11:22:00|   false|\n",
      "|b8098f94-4b26-448...|77d3ae5f-359a-475...|   34|2024-10-28 09:34:00|    true|\n",
      "|21e1dfca-afd6-408...|77d3ae5f-359a-475...|   37|2024-10-27 10:13:00|    true|\n",
      "|1f266dcd-1b82-4ec...|77d3ae5f-359a-475...|   19|2024-10-26 04:40:00|   false|\n",
      "|2385e742-983a-46e...|77d3ae5f-359a-475...|   11|2024-10-25 11:19:00|    true|\n",
      "|a6473ca6-d16a-46b...|77d3ae5f-359a-475...|   15|2024-10-24 10:47:00|   false|\n",
      "+--------------------+--------------------+-----+-------------------+--------+\n",
      "\n"
     ]
    }
   ],
   "source": [
    "from pyspark.sql.functions import col\n",
    "\n",
    "# Replace 'your_uuid' with the specific UUID you're interested in\n",
    "your_uuid = \"77d3ae5f-359a-4756-b42a-fd5f94127ec3\"\n",
    "\n",
    "# Filter by the specified UUID, order by 'point_in_time' descending, and limit to the last 20 entries\n",
    "df_filtered = (\n",
    "    litter_bin_emptying_df.filter(col(\"fk_litter_bin_uuid\") == your_uuid)\n",
    "      .orderBy(col(\"point_in_time\").desc())\n",
    "      .limit(20)\n",
    ")\n",
    "\n",
    "# Show the results\n",
    "df_filtered.show()\n"
   ]
  },
  {
   "cell_type": "code",
   "execution_count": 7,
   "id": "68fd11a0-ff53-413f-ac2b-8914870e719f",
   "metadata": {},
   "outputs": [
    {
     "name": "stdout",
     "output_type": "stream",
     "text": [
      "+--------------------+--------------------+-----+-------------------+--------+\n",
      "|       emptying_uuid|  fk_litter_bin_uuid|liter|      point_in_time|bin_full|\n",
      "+--------------------+--------------------+-----+-------------------+--------+\n",
      "|5289b3fb-255c-4ba...|77d3ae5f-359a-475...|   31|2024-06-12 04:06:00|    true|\n",
      "|49bca41a-346a-46e...|77d3ae5f-359a-475...|   21|2024-06-16 09:53:00|    true|\n",
      "|e56ed3d0-aba9-4b3...|77d3ae5f-359a-475...|   21|2024-06-19 09:01:00|    true|\n",
      "|e9766c52-5aa2-49b...|77d3ae5f-359a-475...|   24|2024-06-21 10:24:00|    true|\n",
      "|0b5c38dc-7b7a-40a...|77d3ae5f-359a-475...|   39|2024-06-25 08:36:00|   false|\n",
      "|6cb7677c-2c62-431...|77d3ae5f-359a-475...|   26|2024-06-27 08:16:00|   false|\n",
      "|852cc956-b998-416...|77d3ae5f-359a-475...|   23|2024-06-29 06:29:00|   false|\n",
      "|12c56dd1-3ba6-497...|77d3ae5f-359a-475...|   27|2024-07-04 04:04:00|    true|\n",
      "|2ac39296-84d8-427...|77d3ae5f-359a-475...|   36|2024-07-05 08:13:00|    true|\n",
      "|ed42b4b4-cc99-4f4...|77d3ae5f-359a-475...|   38|2024-07-06 11:24:00|   false|\n",
      "|b4d862f5-8695-46c...|77d3ae5f-359a-475...|   25|2024-07-10 04:06:00|    true|\n",
      "|3aef07f8-e0ad-42d...|77d3ae5f-359a-475...|   12|2024-07-15 11:29:00|    true|\n",
      "|e883ca5d-a6f2-491...|77d3ae5f-359a-475...|   11|2024-07-16 10:42:00|    true|\n",
      "|81a09378-0704-400...|77d3ae5f-359a-475...|   27|2024-07-17 07:39:00|    true|\n",
      "|b9361fe5-abba-442...|77d3ae5f-359a-475...|   39|2024-07-19 07:52:00|   false|\n",
      "|7969fc0f-7050-46b...|77d3ae5f-359a-475...|   24|2024-07-20 09:32:00|    true|\n",
      "|fcbd4b49-4330-4f6...|77d3ae5f-359a-475...|   39|2024-07-27 04:35:00|   false|\n",
      "|d232f8a8-ce55-453...|77d3ae5f-359a-475...|   36|2024-07-29 06:26:00|    true|\n",
      "|e0853b34-b552-494...|77d3ae5f-359a-475...|   31|2024-08-01 04:33:00|    true|\n",
      "|a6fe96b2-94f2-496...|77d3ae5f-359a-475...|   24|2024-08-02 09:49:00|    true|\n",
      "+--------------------+--------------------+-----+-------------------+--------+\n",
      "only showing top 20 rows\n",
      "\n",
      "+--------------------+--------------------+-----+-------------------+--------+\n",
      "|       emptying_uuid|  fk_litter_bin_uuid|liter|      point_in_time|bin_full|\n",
      "+--------------------+--------------------+-----+-------------------+--------+\n",
      "|b5abf799-17b2-491...|77d3ae5f-359a-475...|   18|2024-11-11 07:57:00|    true|\n",
      "|8d8cb44c-064f-477...|77d3ae5f-359a-475...|   15|2024-11-10 06:07:00|    true|\n",
      "|02f12522-f18c-4a0...|77d3ae5f-359a-475...|   30|2024-11-09 08:17:00|    true|\n",
      "|b6b3c7e9-47fe-421...|77d3ae5f-359a-475...|   25|2024-11-08 04:54:00|    true|\n",
      "|0a951353-89ac-452...|77d3ae5f-359a-475...|   20|2024-11-06 05:20:00|   false|\n",
      "|ef3b880f-540f-435...|77d3ae5f-359a-475...|   29|2024-11-01 07:11:00|    true|\n",
      "|2cc30bff-85ed-4fe...|77d3ae5f-359a-475...|   23|2024-10-30 06:13:00|   false|\n",
      "|2385e742-983a-46e...|77d3ae5f-359a-475...|   11|2024-10-25 11:19:00|    true|\n",
      "|9344b582-208c-4bc...|77d3ae5f-359a-475...|   36|2024-10-22 10:18:00|   false|\n",
      "|1f9faa82-1eaa-490...|77d3ae5f-359a-475...|   33|2024-10-21 06:57:00|    true|\n",
      "|a5b6cbc0-945f-4a3...|77d3ae5f-359a-475...|   17|2024-10-19 11:52:00|   false|\n",
      "|bb2cd88d-27bc-4c5...|77d3ae5f-359a-475...|   15|2024-10-17 04:10:00|    true|\n",
      "|7e1a6aa5-6823-4f7...|77d3ae5f-359a-475...|   34|2024-10-16 05:27:00|   false|\n",
      "|2eb4da77-70bf-4e5...|77d3ae5f-359a-475...|   12|2024-10-15 11:12:00|    true|\n",
      "|c6541538-fc1b-44c...|77d3ae5f-359a-475...|   10|2024-10-13 08:19:00|    true|\n",
      "|af06135a-5d78-4ab...|77d3ae5f-359a-475...|   19|2024-10-12 07:19:00|    true|\n",
      "|bc5d3e05-2fcc-468...|77d3ae5f-359a-475...|   16|2024-10-11 09:52:00|    true|\n",
      "|61814618-71ee-423...|77d3ae5f-359a-475...|   15|2024-10-10 08:54:00|    true|\n",
      "|b58e0386-6560-405...|77d3ae5f-359a-475...|   35|2024-10-06 09:55:00|   false|\n",
      "|6f1405b8-c890-4dd...|77d3ae5f-359a-475...|   39|2024-10-05 07:13:00|    true|\n",
      "+--------------------+--------------------+-----+-------------------+--------+\n",
      "\n"
     ]
    }
   ],
   "source": [
    "# Behalte zufällig 50% der Datensätze und verwerfe den Rest\n",
    "df_reduced = litter_bin_emptying_df.sample(fraction=0.5, seed=42)  # seed for reproducibility\n",
    "\n",
    "# Zeige das Ergebnis\n",
    "df_reduced.show()\n",
    "\n",
    "# Replace 'your_uuid' with the specific UUID you're interested in\n",
    "your_uuid = \"77d3ae5f-359a-4756-b42a-fd5f94127ec3\"\n",
    "\n",
    "# Filter by the specified UUID, order by 'point_in_time' descending, and limit to the last 20 entries\n",
    "df_filtered = (\n",
    "    df_reduced.filter(col(\"fk_litter_bin_uuid\") == your_uuid)\n",
    "      .orderBy(col(\"point_in_time\").desc())\n",
    "      .limit(20)\n",
    ")\n",
    "\n",
    "# Show the results\n",
    "df_filtered.show()\n"
   ]
  },
  {
   "cell_type": "code",
   "execution_count": 9,
   "id": "0bf4cb15-0e8e-432b-961c-816ad18df3a4",
   "metadata": {},
   "outputs": [
    {
     "name": "stdout",
     "output_type": "stream",
     "text": [
      "+--------------------+--------------------+-----+-------------------+--------+-----------------+-------------------+---------------+\n",
      "|       emptying_uuid|  fk_litter_bin_uuid|liter|      point_in_time|bin_full|previous_bin_full|     next_true_time|days_until_full|\n",
      "+--------------------+--------------------+-----+-------------------+--------+-----------------+-------------------+---------------+\n",
      "|ad20d8d1-c5cc-4b3...|05df253e-6af8-438...|   35|2024-01-26 07:13:00|   false|             true|2024-01-27 09:18:00|              1|\n",
      "|e8dbe7d2-5702-4b9...|05df253e-6af8-438...|   31|2024-02-03 06:10:00|   false|             true|2024-02-04 11:51:00|              1|\n",
      "|e54a9b8e-ccc4-4c1...|05df253e-6af8-438...|   35|2024-02-05 07:45:00|   false|             true|2024-02-06 11:45:00|              1|\n",
      "|86e82bc2-4083-43b...|05df253e-6af8-438...|   30|2024-02-13 09:40:00|   false|             true|2024-02-15 11:56:00|              2|\n",
      "|d4c3b694-68d2-406...|05df253e-6af8-438...|   23|2024-02-15 11:56:00|   false|            false|2024-02-19 04:14:00|              4|\n",
      "|c637cc50-1a77-4ed...|05df253e-6af8-438...|   40|2024-03-03 07:27:00|   false|             true|2024-03-05 06:06:00|              2|\n",
      "|ac0b3061-69e3-48e...|05df253e-6af8-438...|   10|2024-03-05 06:06:00|   false|            false|2024-03-06 08:32:00|              1|\n",
      "|940abe6c-95e2-45f...|05df253e-6af8-438...|   36|2024-03-08 08:54:00|   false|             true|2024-03-11 05:13:00|              3|\n",
      "|0eb37e31-8278-435...|05df253e-6af8-438...|   10|2024-03-11 05:13:00|   false|            false|2024-03-14 10:30:00|              3|\n",
      "|e57db3aa-9ecb-41a...|05df253e-6af8-438...|   12|2024-03-14 10:30:00|   false|            false|2024-03-19 06:01:00|              5|\n",
      "|28cc0eb3-57a3-4b1...|05df253e-6af8-438...|   14|2024-03-19 06:01:00|   false|            false|2024-03-21 06:09:00|              2|\n",
      "|29418827-49a6-479...|05df253e-6af8-438...|   40|2024-03-22 07:27:00|   false|             true|2024-03-24 11:51:00|              2|\n",
      "|4ea757a3-6dde-4a7...|05df253e-6af8-438...|   31|2024-03-25 11:40:00|   false|             true|2024-03-26 10:41:00|              1|\n",
      "|925709b2-ec9d-41a...|05df253e-6af8-438...|   38|2024-04-12 07:59:00|   false|             true|2024-04-14 05:47:00|              2|\n",
      "|9fc5c4af-77e8-4c3...|05df253e-6af8-438...|   31|2024-04-15 05:06:00|   false|             true|2024-04-16 05:20:00|              1|\n",
      "|67c0a9b7-f339-4ed...|05df253e-6af8-438...|   14|2024-04-26 09:35:00|   false|             true|2024-04-27 04:11:00|              1|\n",
      "|2d4276b8-eab1-41d...|05df253e-6af8-438...|   30|2024-05-05 06:59:00|   false|             true|2024-05-06 04:35:00|              1|\n",
      "|67ba0130-a82e-477...|05df253e-6af8-438...|   11|2024-05-06 04:35:00|   false|            false|2024-05-07 05:28:00|              1|\n",
      "|65528e25-ecfe-4f4...|05df253e-6af8-438...|   33|2024-06-05 04:00:00|   false|             true|2024-06-06 09:05:00|              1|\n",
      "|fdcfc546-69a5-41c...|05df253e-6af8-438...|   16|2024-06-16 04:52:00|   false|             true|2024-06-18 04:08:00|              2|\n",
      "+--------------------+--------------------+-----+-------------------+--------+-----------------+-------------------+---------------+\n",
      "only showing top 20 rows\n",
      "\n"
     ]
    }
   ],
   "source": [
    "from pyspark.sql import Window\n",
    "from pyspark.sql.functions import col, lag, lead, when, datediff\n",
    "\n",
    "# Define the window partitioned by fk_litter_bin_uuid and ordered by point_in_time\n",
    "window_spec = Window.partitionBy(\"fk_litter_bin_uuid\").orderBy(\"point_in_time\")\n",
    "\n",
    "# Identify when bin_full changes from False to True\n",
    "df_with_lag = df_reduced.withColumn(\"previous_bin_full\", lag(\"bin_full\").over(window_spec))\n",
    "\n",
    "# Filter rows where bin_full changed from False to True\n",
    "df_false_to_true = df_with_lag.filter((col(\"previous_bin_full\") == False) & (col(\"bin_full\") == True))\n",
    "\n",
    "# Get the time of the last 'False' value before the change to 'True'\n",
    "df_false_with_lead_time = df_with_lag.withColumn(\"next_true_time\", lead(\"point_in_time\").over(window_spec))\n",
    "\n",
    "# Filter for only rows where bin_full is False and we have a next True time\n",
    "df_false_time = df_false_with_lead_time.filter((col(\"bin_full\") == False) & col(\"next_true_time\").isNotNull())\n",
    "\n",
    "# Calculate the days difference between the False and the next True\n",
    "df_days_until_full = df_false_time.withColumn(\n",
    "    \"days_until_full\",\n",
    "    datediff(col(\"next_true_time\"), col(\"point_in_time\"))\n",
    ")\n",
    "\n",
    "# Show the result\n",
    "df_days_until_full.select(\"fk_litter_bin_uuid\", \"point_in_time\", \"days_until_full\").show()\n"
   ]
  },
  {
   "cell_type": "code",
   "execution_count": 12,
   "id": "6c75defa-9e21-4536-b812-ca248df64c0a",
   "metadata": {},
   "outputs": [
    {
     "data": {
      "text/plain": [
       "[Row(fk_litter_bin_uuid='01c83801-b6b1-4617-a80c-7ac31d159934', days_until_full=1),\n",
       " Row(fk_litter_bin_uuid='01c83801-b6b1-4617-a80c-7ac31d159934', days_until_full=1),\n",
       " Row(fk_litter_bin_uuid='01c83801-b6b1-4617-a80c-7ac31d159934', days_until_full=1),\n",
       " Row(fk_litter_bin_uuid='01c83801-b6b1-4617-a80c-7ac31d159934', days_until_full=2),\n",
       " Row(fk_litter_bin_uuid='01c83801-b6b1-4617-a80c-7ac31d159934', days_until_full=1),\n",
       " Row(fk_litter_bin_uuid='01c83801-b6b1-4617-a80c-7ac31d159934', days_until_full=2),\n",
       " Row(fk_litter_bin_uuid='01c83801-b6b1-4617-a80c-7ac31d159934', days_until_full=3),\n",
       " Row(fk_litter_bin_uuid='01c83801-b6b1-4617-a80c-7ac31d159934', days_until_full=3),\n",
       " Row(fk_litter_bin_uuid='01c83801-b6b1-4617-a80c-7ac31d159934', days_until_full=1),\n",
       " Row(fk_litter_bin_uuid='01c83801-b6b1-4617-a80c-7ac31d159934', days_until_full=2)]"
      ]
     },
     "execution_count": 12,
     "metadata": {},
     "output_type": "execute_result"
    }
   ],
   "source": [
    "df_days_until_full.select(\"fk_litter_bin_uuid\", \"days_until_full\").head(10)"
   ]
  },
  {
   "cell_type": "code",
   "execution_count": 14,
   "id": "7b6c14bf-dfd4-4b36-8658-411ceed71111",
   "metadata": {},
   "outputs": [
    {
     "data": {
      "text/plain": [
       "[Row(fk_litter_bin_uuid='01c83801-b6b1-4617-a80c-7ac31d159934', avg_days_until_full=1.7872340425531914),\n",
       " Row(fk_litter_bin_uuid='02e3367d-58d4-449a-acde-e72a115b42a0', avg_days_until_full=1.8529411764705883),\n",
       " Row(fk_litter_bin_uuid='03554f3f-08d8-45b1-8ff7-faa4e6f616fd', avg_days_until_full=2.0625),\n",
       " Row(fk_litter_bin_uuid='03b81394-2510-443c-bd41-92a5c831f668', avg_days_until_full=2.0),\n",
       " Row(fk_litter_bin_uuid='04d5b3a6-5e41-4600-bbcc-96a02db59fed', avg_days_until_full=1.8387096774193548),\n",
       " Row(fk_litter_bin_uuid='04f781a6-6fa3-4117-93d2-3d4bb51bcdba', avg_days_until_full=2.4444444444444446),\n",
       " Row(fk_litter_bin_uuid='05df253e-6af8-4389-84b4-377f769e6e28', avg_days_until_full=2.0555555555555554),\n",
       " Row(fk_litter_bin_uuid='069b61bb-f0c9-452d-8490-3fc09562cf16', avg_days_until_full=1.7317073170731707),\n",
       " Row(fk_litter_bin_uuid='06d073b3-7c35-4b4e-a288-0d85cc21c437', avg_days_until_full=1.9210526315789473),\n",
       " Row(fk_litter_bin_uuid='06ec6ff5-572c-487e-b4e0-741b37d2be3e', avg_days_until_full=1.7804878048780488)]"
      ]
     },
     "execution_count": 14,
     "metadata": {},
     "output_type": "execute_result"
    }
   ],
   "source": [
    "from pyspark.sql import functions as F\n",
    "\n",
    "# Group by each fk_litter_bin_uuid and calculate the average of days_until_full\n",
    "df_avg_days_until_full = df_days_until_full.groupBy(\"fk_litter_bin_uuid\").agg(\n",
    "    F.avg(\"days_until_full\").alias(\"avg_days_until_full\")\n",
    ")\n",
    "\n",
    "# Show the result\n",
    "df_avg_days_until_full.head(10)\n"
   ]
  },
  {
   "cell_type": "code",
   "execution_count": null,
   "id": "9537ba0b-13f5-407d-b8bc-c577c9fb732a",
   "metadata": {},
   "outputs": [],
   "source": []
  }
 ],
 "metadata": {
  "kernelspec": {
   "display_name": "Python 3 (ipykernel)",
   "language": "python",
   "name": "python3"
  },
  "language_info": {
   "codemirror_mode": {
    "name": "ipython",
    "version": 3
   },
   "file_extension": ".py",
   "mimetype": "text/x-python",
   "name": "python",
   "nbconvert_exporter": "python",
   "pygments_lexer": "ipython3",
   "version": "3.11.8"
  }
 },
 "nbformat": 4,
 "nbformat_minor": 5
}
