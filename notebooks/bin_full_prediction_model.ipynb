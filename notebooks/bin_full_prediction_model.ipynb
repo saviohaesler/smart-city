{
 "cells": [
  {
   "metadata": {
    "ExecuteTime": {
     "end_time": "2024-11-15T09:14:44.053979Z",
     "start_time": "2024-11-15T09:14:42.813742Z"
    }
   },
   "cell_type": "code",
   "source": "!pip install seaborn",
   "id": "8edc6838f398e383",
   "outputs": [
    {
     "name": "stdout",
     "output_type": "stream",
     "text": [
      "Requirement already satisfied: seaborn in /opt/conda/lib/python3.11/site-packages (0.13.2)\r\n",
      "Requirement already satisfied: numpy!=1.24.0,>=1.20 in /opt/conda/lib/python3.11/site-packages (from seaborn) (1.26.4)\r\n",
      "Requirement already satisfied: pandas>=1.2 in /opt/conda/lib/python3.11/site-packages (from seaborn) (2.0.3)\r\n",
      "Requirement already satisfied: matplotlib!=3.6.1,>=3.4 in /opt/conda/lib/python3.11/site-packages (from seaborn) (3.8.3)\r\n",
      "Requirement already satisfied: contourpy>=1.0.1 in /opt/conda/lib/python3.11/site-packages (from matplotlib!=3.6.1,>=3.4->seaborn) (1.2.0)\r\n",
      "Requirement already satisfied: cycler>=0.10 in /opt/conda/lib/python3.11/site-packages (from matplotlib!=3.6.1,>=3.4->seaborn) (0.12.1)\r\n",
      "Requirement already satisfied: fonttools>=4.22.0 in /opt/conda/lib/python3.11/site-packages (from matplotlib!=3.6.1,>=3.4->seaborn) (4.49.0)\r\n",
      "Requirement already satisfied: kiwisolver>=1.3.1 in /opt/conda/lib/python3.11/site-packages (from matplotlib!=3.6.1,>=3.4->seaborn) (1.4.5)\r\n",
      "Requirement already satisfied: packaging>=20.0 in /opt/conda/lib/python3.11/site-packages (from matplotlib!=3.6.1,>=3.4->seaborn) (23.2)\r\n",
      "Requirement already satisfied: pillow>=8 in /opt/conda/lib/python3.11/site-packages (from matplotlib!=3.6.1,>=3.4->seaborn) (10.2.0)\r\n",
      "Requirement already satisfied: pyparsing>=2.3.1 in /opt/conda/lib/python3.11/site-packages (from matplotlib!=3.6.1,>=3.4->seaborn) (3.1.1)\r\n",
      "Requirement already satisfied: python-dateutil>=2.7 in /opt/conda/lib/python3.11/site-packages (from matplotlib!=3.6.1,>=3.4->seaborn) (2.8.2)\r\n",
      "Requirement already satisfied: pytz>=2020.1 in /opt/conda/lib/python3.11/site-packages (from pandas>=1.2->seaborn) (2024.1)\r\n",
      "Requirement already satisfied: tzdata>=2022.1 in /opt/conda/lib/python3.11/site-packages (from pandas>=1.2->seaborn) (2024.1)\r\n",
      "Requirement already satisfied: six>=1.5 in /opt/conda/lib/python3.11/site-packages (from python-dateutil>=2.7->matplotlib!=3.6.1,>=3.4->seaborn) (1.16.0)\r\n"
     ]
    }
   ],
   "execution_count": 1
  },
  {
   "cell_type": "markdown",
   "id": "30250b26",
   "metadata": {},
   "source": [
    "# Import Section\n",
    "\n",
    "This cell initializes a Spark session, sets up database connection properties, and loads data from the `bin_state_notification` table. It then selects only the necessary columns (`litter_bin_uuid`, `point_in_time`, `notification_type`) and converts the `point_in_time` column to a timestamp format."
   ]
  },
  {
   "cell_type": "code",
   "id": "40ad5c25",
   "metadata": {
    "ExecuteTime": {
     "end_time": "2024-11-15T09:14:44.414689Z",
     "start_time": "2024-11-15T09:14:44.064082Z"
    }
   },
   "source": [
    "from pyspark.sql import SparkSession\n",
    "from pyspark.sql.functions import to_timestamp, col, lead, when, unix_timestamp, hour, dayofweek, lag, avg, \\\n",
    "    stddev\n",
    "from pyspark.sql.window import Window\n",
    "from pyspark.ml.feature import VectorAssembler, StringIndexer, OneHotEncoder\n",
    "from pyspark.ml.regression import RandomForestRegressor\n",
    "from pyspark.ml import Pipeline\n",
    "from pyspark.ml.evaluation import RegressionEvaluator, BinaryClassificationEvaluator\n",
    "import matplotlib.pyplot as plt\n",
    "import seaborn as sns\n"
   ],
   "outputs": [],
   "execution_count": 2
  },
  {
   "cell_type": "markdown",
   "id": "323e9d0c",
   "metadata": {},
   "source": [
    "# Loading and preparing the data\n",
    "\n",
    "As a first step we initialize the spark context and fetch all the notifications from the database. From this data we only need the `litter_bin_uuid`, `point_in_time` and the `notification_type`. The `point_in_time` we have to convert to a timestamp so that we then can order all the data by time and responding uuid of the bin."
   ]
  },
  {
   "cell_type": "code",
   "id": "initial_id",
   "metadata": {
    "ExecuteTime": {
     "end_time": "2024-11-15T09:14:47.169860Z",
     "start_time": "2024-11-15T09:14:44.536111Z"
    }
   },
   "source": [
    "spark = SparkSession.builder \\\n",
    "    .appName(\"SmartLitter\") \\\n",
    "    .getOrCreate()\n",
    "\n",
    "jdbc_url = \"jdbc:postgresql://db:5432/litter_db\"\n",
    "connection_properties = {\n",
    "    \"user\": \"root\",\n",
    "    \"password\": \"pwd123\",\n",
    "    \"driver\": \"org.postgresql.Driver\",\n",
    "    \"stringtype\": \"unspecified\"\n",
    "}\n",
    "\n",
    "bin_state_df = spark.read.jdbc(\n",
    "    url=jdbc_url,\n",
    "    table='public.bin_state_notification',\n",
    "    properties=connection_properties\n",
    ").select('litter_bin_uuid', 'point_in_time', 'notification_type') \\\n",
    "    .withColumn('point_in_time', to_timestamp('point_in_time')) \\\n",
    "    .orderBy('litter_bin_uuid', 'point_in_time')"
   ],
   "outputs": [],
   "execution_count": 3
  },
  {
   "cell_type": "markdown",
   "id": "31fc94f7",
   "metadata": {},
   "source": [
    "# Feature Engineering\n",
    "\n",
    "Now that we loaded and prepared our data we can start with the feature engineering. For our features we want the day and hour the bin has been emptied. In addition, we want some metrics, more specific the time span until a bin has been full again, the average time until a bin is full and the standard deviation so we have some differentiation between the bins. Since our data is categorical (each bin with its own uuid), we need to one hot encode it. This way we can convert the bin uuid into a numerical value. If we would not do this the model would be trained over all bins, but we want to treat each bin on their own since each bin has its own history.\n",
    "\n"
   ]
  },
  {
   "metadata": {
    "ExecuteTime": {
     "end_time": "2024-11-15T09:14:47.191750Z",
     "start_time": "2024-11-15T09:14:47.189291Z"
    }
   },
   "cell_type": "code",
   "source": "feature_cols = ['hour_of_day', 'day_of_week', 'prev_time_to_full_hours', 'avg_time_to_full_hours', 'stddev_time_to_full_hours', 'bin_vector']",
   "id": "2cf49c1ae76c1baa",
   "outputs": [],
   "execution_count": 4
  },
  {
   "metadata": {},
   "cell_type": "markdown",
   "source": [
    "## Create features on the data\n",
    "First for each event we need to find the next emptied and full event and then we flag them. If then for example multiple full event are in between they receive the flag 0. By this flag then we can calculate the next time when the bin is full or emptied."
   ],
   "id": "756d93ef57fde28c"
  },
  {
   "cell_type": "code",
   "id": "666e5f177e700319",
   "metadata": {
    "ExecuteTime": {
     "end_time": "2024-11-15T09:14:47.282380Z",
     "start_time": "2024-11-15T09:14:47.203870Z"
    }
   },
   "source": [
    "window_spec = Window.partitionBy('litter_bin_uuid').orderBy('point_in_time')\n",
    "\n",
    "bin_state_df = bin_state_df.withColumn('is_emptied', when(col('notification_type') == 'emptied', 1).otherwise(0))\n",
    "bin_state_df = bin_state_df.withColumn('is_full', when(col('notification_type') == 'full', 1).otherwise(0))\n",
    "\n",
    "bin_state_df = bin_state_df.withColumn('next_full_time', lead(\n",
    "    when(col('is_full') == 1, col('point_in_time')), 1\n",
    ").over(window_spec))\n",
    "bin_state_df = bin_state_df.withColumn('next_emptied_time', lead(\n",
    "    when(col('is_emptied') == 1, col('point_in_time')), 1\n",
    ").over(window_spec))"
   ],
   "outputs": [],
   "execution_count": 5
  },
  {
   "cell_type": "markdown",
   "id": "f661c319",
   "metadata": {},
   "source": "With that information now we can calculate the time until the bin has been full again for all the bins over all time. In addition, we filter out all events that have no `full` event after an emptied event occurred."
  },
  {
   "cell_type": "code",
   "id": "fa51cc13c504b88",
   "metadata": {
    "ExecuteTime": {
     "end_time": "2024-11-15T09:14:47.329939Z",
     "start_time": "2024-11-15T09:14:47.295301Z"
    }
   },
   "source": [
    "emptied_events_df = bin_state_df.filter(col('is_emptied') == 1)\n",
    "emptied_events_df = emptied_events_df.withColumn('time_to_full_hours',\n",
    "        (unix_timestamp('next_full_time') - unix_timestamp('point_in_time')) / 3600\n",
    ")\n",
    "emptied_events_df = emptied_events_df.filter(col('next_full_time').isNotNull())"
   ],
   "outputs": [],
   "execution_count": 6
  },
  {
   "cell_type": "markdown",
   "id": "07978977",
   "metadata": {},
   "source": "We have now prepared all of our data to apply the features to it. We extract the hour and the day the bin has been emptied. Since we now have the time until a bin is full we can compute all the previous time until a bin has been full with the offset value. We want this because it better represents the history of a bin until it is full again. Then we compute the statistics for each bin, giving us the average and standard deviation until a bin is full. In the last step if no previous time until a bin is full was not able to calculate we just replace the null value with the average."
  },
  {
   "cell_type": "code",
   "id": "5c22002b8ae173ae",
   "metadata": {
    "ExecuteTime": {
     "end_time": "2024-11-15T09:14:47.470188Z",
     "start_time": "2024-11-15T09:14:47.342365Z"
    }
   },
   "source": [
    "emptied_events_df = emptied_events_df.withColumn('hour_of_day', hour('point_in_time'))\n",
    "emptied_events_df = emptied_events_df.withColumn('day_of_week', dayofweek('point_in_time'))\n",
    "\n",
    "emptied_events_df = emptied_events_df.withColumn('prev_time_to_full_hours', lag('time_to_full_hours', 1).over(window_spec))\n",
    "\n",
    "avg_time_to_full = emptied_events_df.groupBy('litter_bin_uuid').agg(\n",
    "    avg('time_to_full_hours').alias('avg_time_to_full_hours'),\n",
    "    stddev('time_to_full_hours').alias('stddev_time_to_full_hours')\n",
    ")\n",
    "\n",
    "emptied_events_df = emptied_events_df.join(avg_time_to_full, on='litter_bin_uuid', how='left')\n",
    "\n",
    "final_df = emptied_events_df.withColumn('prev_time_to_full_hours',\n",
    "    when(col('prev_time_to_full_hours').isNull(),\n",
    "        col('avg_time_to_full_hours')).otherwise(col('prev_time_to_full_hours'))\n",
    ")"
   ],
   "outputs": [],
   "execution_count": 7
  },
  {
   "metadata": {},
   "cell_type": "markdown",
   "source": [
    "# Training the model\n",
    "\n",
    "Now that we have our prepared data we can start training it. In a first step we split the data into a train and test set with an 80% to 20% distribution."
   ],
   "id": "5640f5ebcc2da1f6"
  },
  {
   "cell_type": "code",
   "id": "1d760e820f5fba1b",
   "metadata": {
    "ExecuteTime": {
     "end_time": "2024-11-15T09:14:47.506933Z",
     "start_time": "2024-11-15T09:14:47.484166Z"
    }
   },
   "source": "train_df, test_df = final_df.randomSplit([0.8, 0.2], seed=42)",
   "outputs": [],
   "execution_count": 8
  },
  {
   "metadata": {},
   "cell_type": "markdown",
   "source": "First we convert the litter bin uuid to a numerical index with a string indexer. With this we can then one hot encode it so we get the vector distances for each bin. Then we assemble all of our into vectors. This combined then with the one hot encoded bin uuids gives us all needed features.",
   "id": "b73f7e43bec45ea9"
  },
  {
   "cell_type": "code",
   "id": "8cb36cecbf5f93b0",
   "metadata": {
    "ExecuteTime": {
     "end_time": "2024-11-15T09:14:47.548395Z",
     "start_time": "2024-11-15T09:14:47.521002Z"
    }
   },
   "source": [
    "indexer = StringIndexer(inputCol='litter_bin_uuid', outputCol='bin_index')\n",
    "encoder = OneHotEncoder(inputCols=['bin_index'], outputCols=['bin_vector'])\n",
    "assembler = VectorAssembler(inputCols=feature_cols, outputCol='features')\n"
   ],
   "outputs": [],
   "execution_count": 9
  },
  {
   "metadata": {},
   "cell_type": "markdown",
   "source": "For our model we are choosing a random forest algorithm. The reason for this beeing is that the relationship between our features is non linear.",
   "id": "45001bbae58b734a"
  },
  {
   "metadata": {
    "ExecuteTime": {
     "end_time": "2024-11-15T09:14:47.574263Z",
     "start_time": "2024-11-15T09:14:47.561115Z"
    }
   },
   "cell_type": "code",
   "source": "rf = RandomForestRegressor(featuresCol='features', labelCol='time_to_full_hours', numTrees=500)",
   "id": "888bedc87be3361f",
   "outputs": [],
   "execution_count": 10
  },
  {
   "metadata": {},
   "cell_type": "markdown",
   "source": "Now we can assemble our ml pipeline that applies all these steps.",
   "id": "e7f496134b0856b9"
  },
  {
   "metadata": {
    "ExecuteTime": {
     "end_time": "2024-11-15T09:15:49.214947Z",
     "start_time": "2024-11-15T09:14:47.587204Z"
    }
   },
   "cell_type": "code",
   "source": [
    "pipeline = Pipeline(stages=[indexer, encoder, assembler, rf])\n",
    "regression_model = pipeline.fit(train_df)\n",
    "regression_model.save(\"./models/RegressionModel_3\")"
   ],
   "id": "d197eb7556a21aa6",
   "outputs": [],
   "execution_count": 11
  },
  {
   "metadata": {},
   "cell_type": "markdown",
   "source": [
    "# Model Evaluation\n",
    "\n",
    "Now that we trained our model we want to evaluate the effectiveness of it. Remember, we generated our own test data so the precision and accuracy of the model is heavily influenced by this. Because of that we cannot be 100% sure if the model behaves the same on actual real world data.\n",
    "\n",
    "With our test data we can make the predictions. Then with the `root mean squared error` and the `mean absolute error` we can have a first idea how our model performs. The lower both values are the better and in addition the closer together they are the better. "
   ],
   "id": "1338a30bd57b8148"
  },
  {
   "cell_type": "code",
   "id": "1100015f8574e261",
   "metadata": {
    "ExecuteTime": {
     "end_time": "2024-11-15T09:15:52.530885Z",
     "start_time": "2024-11-15T09:15:49.231692Z"
    }
   },
   "source": [
    "predictions = regression_model.transform(test_df)\n",
    "\n",
    "evaluator = RegressionEvaluator(labelCol='time_to_full_hours', predictionCol='prediction', metricName='rmse')\n",
    "rmse = evaluator.evaluate(predictions)\n",
    "print(f\"Root Mean Squared Error (RMSE): {rmse:.2f}\")\n",
    "\n",
    "mae_evaluator = RegressionEvaluator(labelCol='time_to_full_hours', predictionCol='prediction', metricName='mae')\n",
    "mae = mae_evaluator.evaluate(predictions)\n",
    "print(f\"Mean Absolute Error (MAE): {mae:.2f}\")"
   ],
   "outputs": [
    {
     "name": "stdout",
     "output_type": "stream",
     "text": [
      "Root Mean Squared Error (RMSE): 54.58\n",
      "Mean Absolute Error (MAE): 35.22\n"
     ]
    }
   ],
   "execution_count": 12
  },
  {
   "metadata": {},
   "cell_type": "markdown",
   "source": [
    "As we can observer the error rates are not bad but also not good. There is definitely room for improvement on the model that would need to be done with a lot of hyperparameter tuning and adding more features to it.\n",
    "\n",
    "In addition, we can also evaluate how the model performs on a prediction horizon, i.e. a time delta. We can then compute the `roc auc` score. It gives us a metric to indicate how well the model distinguishes between two classes, i.e. in our case if the bin is full or not. The higher the score the better. With this data we then can also plot a confusion matrix."
   ],
   "id": "7856c9d87617eaa7"
  },
  {
   "cell_type": "code",
   "id": "ed98fb049d856751",
   "metadata": {
    "ExecuteTime": {
     "end_time": "2024-11-15T09:15:59.040194Z",
     "start_time": "2024-11-15T09:15:52.543316Z"
    }
   },
   "source": [
    "prediction_horizon_hours = 10\n",
    "\n",
    "test_predictions = regression_model.transform(test_df)\n",
    "\n",
    "test_predictions = test_predictions.withColumn('will_be_full', when(\n",
    "    col('prediction') <= prediction_horizon_hours, 1.0\n",
    ").otherwise(0.0))\n",
    "\n",
    "test_predictions = test_predictions.withColumn('label', when(\n",
    "    col('time_to_full_hours') <= prediction_horizon_hours, 1.0\n",
    ").otherwise(0.0))\n",
    "\n",
    "binary_evaluator = BinaryClassificationEvaluator(labelCol='label', rawPredictionCol='will_be_full', metricName='areaUnderROC')\n",
    "\n",
    "roc_auc = binary_evaluator.evaluate(test_predictions)\n",
    "print(f\"ROC AUC Score: {roc_auc:.2f}\")\n",
    "\n",
    "confusion_matrix_df = test_predictions.groupBy('label', 'will_be_full').count()\n",
    "confusion_matrix_pivot = confusion_matrix_df.groupBy(\"label\").pivot(\"will_be_full\").sum(\"count\")\n",
    "\n",
    "confusion_matrix_pd = confusion_matrix_df.toPandas()\n",
    "confusion_matrix_pivot_pd = confusion_matrix_pivot.toPandas()\n",
    "\n",
    "plt.figure(figsize=(8, 6))\n",
    "sns.heatmap(confusion_matrix_pivot_pd.set_index('label'), annot=True, fmt='d', cmap='Blues', cbar=False)\n",
    "plt.title('Confusion Matrix')\n",
    "plt.xlabel('Predicted Label (will_be_full)')\n",
    "plt.ylabel('Actual Label (label)')\n",
    "plt.show()"
   ],
   "outputs": [
    {
     "name": "stdout",
     "output_type": "stream",
     "text": [
      "ROC AUC Score: 0.76\n"
     ]
    },
    {
     "data": {
      "text/plain": [
       "<Figure size 800x600 with 1 Axes>"
      ],
      "image/png": "[encoded data removed]"
     },
     "metadata": {},
     "output_type": "display_data"
    }
   ],
   "execution_count": 13
  }
 ],
 "metadata": {
  "kernelspec": {
   "display_name": "Python 3 (ipykernel)",
   "language": "python",
   "name": "python3"
  },
  "language_info": {
   "codemirror_mode": {
    "name": "ipython",
    "version": 3
   },
   "file_extension": ".py",
   "mimetype": "text/x-python",
   "name": "python",
   "nbconvert_exporter": "python",
   "pygments_lexer": "ipython3",
   "version": "3.11.8"
  }
 },
 "nbformat": 4,
 "nbformat_minor": 5
}
