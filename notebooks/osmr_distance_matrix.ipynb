{
 "cells": [
  {
   "cell_type": "markdown",
   "id": "9333e22f-0ec9-42a7-901b-757d3d61d5c2",
   "metadata": {},
   "source": [
    "### Distance Matrix Route APIs\n",
    "\n",
    "OSRM API to get a distance matrix with their calculated route distances and durations.\n",
    "With this approach we had some problems to wrong durations in the matrix.\n",
    "\n",
    "For this code to work you would just need a list of coordinates and you would get a distance matrix.\n",
    "Biggest distance matrix is 100 X 100, this is the limit of the API."
   ]
  },
  {
   "cell_type": "code",
   "execution_count": null,
   "id": "a131f2b3-988c-4805-ac77-15d09d8e3bfb",
   "metadata": {},
   "outputs": [],
   "source": [
    "import numpy as np\n",
    "coordinate_string = \";\".join([f\"{lng},{lat}\" for lng, lat in coords])\n",
    "url = f\"http://router.project-osrm.org/table/v1/driving/{coordinate_string}?annotations=distance\"\n",
    "response = requests.get(url)\n",
    "table_data = response.json()\n",
    "distance_matrix = [[int(distance) for distance in row] for row in table_data[\"distances\"]]\n",
    "print(distance_matrix[0])"
   ]
  }
 ],
 "metadata": {
  "kernelspec": {
   "display_name": "Python 3 (ipykernel)",
   "language": "python",
   "name": "python3"
  },
  "language_info": {
   "codemirror_mode": {
    "name": "ipython",
    "version": 3
   },
   "file_extension": ".py",
   "mimetype": "text/x-python",
   "name": "python",
   "nbconvert_exporter": "python",
   "pygments_lexer": "ipython3",
   "version": "3.11.8"
  }
 },
 "nbformat": 4,
 "nbformat_minor": 5
}
