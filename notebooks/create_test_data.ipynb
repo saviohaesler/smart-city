{
 "cells": [
  {
   "metadata": {},
   "cell_type": "code",
   "outputs": [],
   "execution_count": null,
   "source": "!pip install pyproj",
   "id": "21852b974f82e4f"
  },
  {
   "cell_type": "code",
   "execution_count": 5,
   "id": "b7d60cc5-cbba-45b3-bb45-522215a7efb1",
   "metadata": {
    "ExecuteTime": {
     "end_time": "2024-11-13T14:36:14.647952Z",
     "start_time": "2024-11-13T14:36:11.937934Z"
    },
    "slideshow": {
     "slide_type": "slide"
    }
   },
   "outputs": [
    {
     "name": "stdout",
     "output_type": "stream",
     "text": [
      "I liebe patricia\n"
     ]
    }
   ],
   "source": [
    "from pyspark.sql import SparkSession\n",
    "from pyspark.sql.types import *\n",
    "import uuid\n",
    "import random\n",
    "import datetime\n",
    "\n",
    "spark = SparkSession.builder \\\n",
    "    .appName(\"SmartLitter\") \\\n",
    "    .getOrCreate()\n",
    "\n",
    "jdbc_url = \"jdbc:postgresql://db:5432/litter_db\"\n",
    "connection_properties = {\n",
    "    \"user\": \"root\",\n",
    "    \"password\": \"pwd123\",\n",
    "    \"driver\": \"org.postgresql.Driver\",\n",
    "    \"stringtype\": \"unspecified\"\n",
    "}"
   ]
  },
  {
   "cell_type": "code",
   "execution_count": 2,
   "id": "a3506cb8-4166-43d6-9169-5ee318c1f6e3",
   "metadata": {
    "ExecuteTime": {
     "end_time": "2024-11-13T13:50:52.347851Z",
     "start_time": "2024-11-13T13:50:50.606513Z"
    },
    "slideshow": {
     "slide_type": "slide"
    }
   },
   "outputs": [
    {
     "data": {
      "text/plain": [
       "[Row(litter_bin_uuid='0fd959ef-c165-4346-a1a3-cf32b9c00c8f', geom_point='01010000200808000091ED7C2FACB943411283C08A239E3241', fk_type_uuid='8ecccfc2-9444-4078-9082-a7744a699de3', archive=False, creation_date=datetime.date(2022, 6, 2), end_date=None, active=True, fastnacht=0, braderie=0, christmas_market=0, barbecue_season=0, bin_full=False, robidog_empty=False, ashtray_full=False, defect=False, dirty=False, id_nr=1),\n",
       " Row(litter_bin_uuid='2e4f4164-72ec-4557-b37f-6015cefd5057', geom_point='010100002008080000A8C64B67C6BA434146B6F3DD949B3241', fk_type_uuid='8ecccfc2-9444-4078-9082-a7744a699de3', archive=False, creation_date=datetime.date(2022, 6, 2), end_date=None, active=True, fastnacht=0, braderie=0, christmas_market=0, barbecue_season=0, bin_full=False, robidog_empty=False, ashtray_full=False, defect=False, dirty=False, id_nr=2),\n",
       " Row(litter_bin_uuid='455a9c45-c18a-48a2-8edd-029c0de1a492', geom_point='010100002008080000F0A7C6FB7CB84341F6285CCF1C9E3241', fk_type_uuid='8ecccfc2-9444-4078-9082-a7744a699de3', archive=False, creation_date=datetime.date(2022, 6, 2), end_date=None, active=True, fastnacht=0, braderie=0, christmas_market=0, barbecue_season=0, bin_full=False, robidog_empty=False, ashtray_full=False, defect=False, dirty=False, id_nr=3)]"
      ]
     },
     "execution_count": 2,
     "metadata": {},
     "output_type": "execute_result"
    }
   ],
   "source": [
    "bins_df = spark.read.jdbc(\n",
    "    url=jdbc_url,\n",
    "    table=\"litter_bin_geoposition\",\n",
    "    properties=connection_properties\n",
    ")\n",
    "bins_df.head(3)"
   ]
  },
  {
   "cell_type": "code",
   "execution_count": 4,
   "id": "96831d657e25b21d",
   "metadata": {
    "ExecuteTime": {
     "end_time": "2024-11-13T13:50:52.827140Z",
     "start_time": "2024-11-13T13:50:52.660903Z"
    }
   },
   "outputs": [
    {
     "data": {
      "text/plain": [
       "[Row(litter_bin_uuid='0fd959ef-c165-4346-a1a3-cf32b9c00c8f', geom_point='01010000200808000091ED7C2FACB943411283C08A239E3241', fk_type_uuid='8ecccfc2-9444-4078-9082-a7744a699de3', archive=False, creation_date=datetime.date(2022, 6, 2), end_date=None, active=True, fastnacht=0, braderie=0, christmas_market=0, barbecue_season=0, bin_full=False, robidog_empty=False, ashtray_full=False, defect=False, dirty=False, id_nr=1)]"
      ]
     },
     "execution_count": 4,
     "metadata": {},
     "output_type": "execute_result"
    }
   ],
   "source": [
    "litter_bin_uuids = [row['litter_bin_uuid'] for row in bins_df.select('litter_bin_uuid').collect()]\n",
    "litter_bin_uuids[0:3]"
   ]
  },
  {
   "cell_type": "code",
   "execution_count": 6,
   "id": "96f3c3b7cff958dc",
   "metadata": {
    "ExecuteTime": {
     "end_time": "2024-11-13T13:50:52.916888Z",
     "start_time": "2024-11-13T13:50:52.852464Z"
    }
   },
   "outputs": [],
   "source": "bins_df.head(1)"
  },
  {
   "metadata": {},
   "cell_type": "code",
   "outputs": [],
   "execution_count": null,
   "source": [
    "from pyspark.sql.functions import udf, col\n",
    "from pyproj import Transformer\n",
    "import struct\n",
    "import binascii\n",
    "\n",
    "\n",
    "def extract_lat_lon(geom_point_hex):\n",
    "    if geom_point_hex is None:\n",
    "        return None, None\n",
    "    try:\n",
    "        body = geom_point_hex[18:]  # Skip the header and SRID\n",
    "        body_bytes = binascii.unhexlify(body)\n",
    "        x, y = struct.unpack('<dd', body_bytes)\n",
    "        transformer = Transformer.from_crs(\"EPSG:2056\", \"EPSG:4326\")\n",
    "        longitude, latitude = transformer.transform(x, y)\n",
    "        return longitude, latitude\n",
    "    except Exception as _:\n",
    "        return None, None\n",
    "\n",
    "extract_lat_udf = udf(lambda geom_point_hex: extract_lat_lon(geom_point_hex)[0], DoubleType())\n",
    "extract_lon_udf = udf(lambda geom_point_hex: extract_lat_lon(geom_point_hex)[1], DoubleType())\n",
    "\n",
    "bins_df = bins_df.withColumn('latitude', extract_lat_udf(col('geom_point')))\n",
    "bins_df = bins_df.withColumn('longitude', extract_lon_udf(col('geom_point')))"
   ],
   "id": "46bb5f98d3f2d130"
  },
  {
   "metadata": {},
   "cell_type": "markdown",
   "source": "## Event Periods",
   "id": "36af9b1eeb78bf76"
  },
  {
   "cell_type": "code",
   "execution_count": 8,
   "id": "c9453422-fc20-4f76-aeae-52c9e3d5a9fa",
   "metadata": {
    "ExecuteTime": {
     "end_time": "2024-11-13T13:50:52.941275Z",
     "start_time": "2024-11-13T13:50:52.937614Z"
    }
   },
   "outputs": [],
   "source": [
    "end_date = datetime.datetime.now()\n",
    "start_date = end_date - datetime.timedelta(days=365)\n",
    "\n",
    "years = set()\n",
    "current_date = start_date\n",
    "while current_date <= end_date:\n",
    "    years.add(current_date.year)\n",
    "    current_date += datetime.timedelta(days=1)\n",
    "years = sorted(list(years))\n"
   ]
  },
  {
   "cell_type": "code",
   "execution_count": 9,
   "id": "9ba437d9-5173-4689-89a3-1f9439b2fa46",
   "metadata": {
    "ExecuteTime": {
     "end_time": "2024-11-13T13:50:52.956210Z",
     "start_time": "2024-11-13T13:50:52.953063Z"
    }
   },
   "outputs": [],
   "source": [
    "def get_event_periods(year):\n",
    "    # Fastnacht: First two weeks of February\n",
    "    fastnacht_start = datetime.datetime(year, 2, 1)\n",
    "    fastnacht_end = datetime.datetime(year, 2, 14)\n",
    "\n",
    "    # Braderie: Last weekend of June (Friday to Sunday)\n",
    "    last_day_of_june = datetime.datetime(year, 6, 30)\n",
    "    weekday = last_day_of_june.weekday()\n",
    "    last_sunday = last_day_of_june - datetime.timedelta(days=weekday)\n",
    "    last_friday = last_sunday - datetime.timedelta(days=2)\n",
    "    braderie_start = last_friday\n",
    "    braderie_end = last_sunday\n",
    "\n",
    "    # Christmas Market: December 1st to December 25th\n",
    "    christmas_market_start = datetime.datetime(year, 12, 1)\n",
    "    christmas_market_end = datetime.datetime(year, 12, 25)\n",
    "\n",
    "    # Barbecue Season: Random days during summer (June 1st to August 31st)\n",
    "    summer_start = datetime.datetime(year, 6, 1)\n",
    "    summer_end = datetime.datetime(year, 8, 31)\n",
    "    all_summer_days = [\n",
    "        summer_start + datetime.timedelta(days=x)\n",
    "        for x in range((summer_end - summer_start).days + 1)\n",
    "    ]\n",
    "    num_barbecue_days = 40\n",
    "    barbecue_season_days = random.sample(all_summer_days, num_barbecue_days)\n",
    "    barbecue_season_dates = set(day.date() for day in barbecue_season_days)\n",
    "\n",
    "    return {\n",
    "        'fastnacht': (fastnacht_start, fastnacht_end),\n",
    "        'braderie': (braderie_start, braderie_end),\n",
    "        'christmas_market': (christmas_market_start, christmas_market_end),\n",
    "        'barbecue_season': barbecue_season_dates\n",
    "    }\n"
   ]
  },
  {
   "cell_type": "code",
   "execution_count": 10,
   "id": "ebbb8d30-228a-4b58-a818-f1bfb27911ed",
   "metadata": {
    "ExecuteTime": {
     "end_time": "2024-11-13T13:50:52.969941Z",
     "start_time": "2024-11-13T13:50:52.967520Z"
    }
   },
   "outputs": [],
   "source": [
    "event_periods = {\n",
    "    'fastnacht': [],\n",
    "    'braderie': [],\n",
    "    'christmas_market': [],\n",
    "    'barbecue_season': set()\n",
    "}\n",
    "\n",
    "for year in years:\n",
    "    periods = get_event_periods(year)\n",
    "    event_periods['fastnacht'].append((periods['fastnacht'][0], periods['fastnacht'][1]))\n",
    "    event_periods['braderie'].append((periods['braderie'][0], periods['braderie'][1]))\n",
    "    event_periods['christmas_market'].append((periods['christmas_market'][0], periods['christmas_market'][1]))\n",
    "    event_periods['barbecue_season'].update(periods['barbecue_season'])"
   ]
  },
  {
   "metadata": {},
   "cell_type": "code",
   "outputs": [],
   "execution_count": null,
   "source": [
    "def is_within_event(date, event_name):\n",
    "    if event_name == 'barbecue_season':\n",
    "        return date.date() in event_periods['barbecue_season']\n",
    "    else:\n",
    "        for start, end in event_periods[event_name]:\n",
    "            if start.date() <= date.date() <= end.date():\n",
    "                return True\n",
    "        return False\n"
   ],
   "id": "71aa4362f4e2a1fb"
  },
  {
   "metadata": {},
   "cell_type": "markdown",
   "source": "## Bin Locations",
   "id": "8593853d79f69abe"
  },
  {
   "cell_type": "code",
   "execution_count": 12,
   "id": "f05899c2e098a4cc",
   "metadata": {
    "ExecuteTime": {
     "end_time": "2024-11-13T13:50:52.999120Z",
     "start_time": "2024-11-13T13:50:52.996861Z"
    }
   },
   "outputs": [],
   "source": [
    "inner_square_coords = {\n",
    "    'NE': (47.13728128322776, 7.251077168095663),\n",
    "    'SE': (47.13064665584864, 7.251077168095663),\n",
    "    'SW': (47.13064665584864, 7.239448953585693),\n",
    "    'NW': (47.13728128322776, 7.239448953585693)\n",
    "}\n",
    "\n",
    "outer_square_coords = {\n",
    "    'NE': (47.17383740918423, 7.304050348858962),\n",
    "    'SE': (47.10951331580206, 7.304050348858962),\n",
    "    'SW': (47.10951331580206, 7.22305712226566),\n",
    "    'NW': (47.17383740918423, 7.22305712226566)\n",
    "}\n",
    "\n",
    "def get_square_bounds(square_coords):\n",
    "    lats = [coord[0] for coord in square_coords.values()]\n",
    "    lons = [coord[1] for coord in square_coords.values()]\n",
    "    return {\n",
    "        'min_lat': min(lats),\n",
    "        'max_lat': max(lats),\n",
    "        'min_lon': min(lons),\n",
    "        'max_lon': max(lons)\n",
    "    }\n",
    "\n",
    "def is_within_square(lat, lon, bounds):\n",
    "    return (bounds['min_lat'] <= lat <= bounds['max_lat']) and (bounds['min_lon'] <= lon <= bounds['max_lon'])\n",
    "\n",
    "inner_square_bounds = get_square_bounds(inner_square_coords)\n",
    "outer_square_bounds = get_square_bounds(outer_square_coords)"
   ]
  },
  {
   "cell_type": "code",
   "execution_count": 13,
   "id": "373a07b5ae908ab0",
   "metadata": {
    "ExecuteTime": {
     "end_time": "2024-11-13T13:50:53.048730Z",
     "start_time": "2024-11-13T13:50:53.010384Z"
    }
   },
   "outputs": [],
   "source": [
    "is_in_inner_square_udf = udf(\n",
    "    lambda lat, lon: is_within_square(lat, lon, inner_square_bounds),\n",
    "    BooleanType()\n",
    ")\n",
    "\n",
    "is_in_outer_square_udf = udf(\n",
    "    lambda lat, lon: is_within_square(lat, lon, outer_square_bounds),\n",
    "    BooleanType()\n",
    ")\n",
    "\n",
    "bins_df = bins_df.withColumn(\n",
    "    'is_in_inner_square',\n",
    "    is_in_inner_square_udf(col('latitude'), col('longitude'))\n",
    ")\n",
    "\n",
    "bins_df = bins_df.withColumn(\n",
    "    'is_in_outer_square',\n",
    "    is_in_outer_square_udf(col('latitude'), col('longitude'))\n",
    ")"
   ]
  },
  {
   "cell_type": "code",
   "execution_count": 14,
   "id": "879f6ff3c01f70ff",
   "metadata": {
    "ExecuteTime": {
     "end_time": "2024-11-13T13:50:53.854420Z",
     "start_time": "2024-11-13T13:50:53.063039Z"
    }
   },
   "outputs": [
    {
     "data": {
      "text/plain": [
       "[Row(litter_bin_uuid='0fd959ef-c165-4346-a1a3-cf32b9c00c8f', geom_point='01010000200808000091ED7C2FACB943411283C08A239E3241', fk_type_uuid='8ecccfc2-9444-4078-9082-a7744a699de3', archive=False, creation_date=datetime.date(2022, 6, 2), end_date=None, active=True, fastnacht=0, braderie=0, christmas_market=0, barbecue_season=0, bin_full=False, robidog_empty=False, ashtray_full=False, defect=False, dirty=False, id_nr=1, latitude=47.132004224182516, longitude=7.246619818672296, is_in_inner_square=True, is_in_outer_square=True)]"
      ]
     },
     "execution_count": 14,
     "metadata": {},
     "output_type": "execute_result"
    }
   ],
   "source": [
    "bins_df.head(1)"
   ]
  },
  {
   "cell_type": "markdown",
   "id": "8834f50a-30a4-4311-b189-021f5a3423e3",
   "metadata": {},
   "source": [
    "## Generate test data"
   ]
  },
  {
   "cell_type": "code",
   "execution_count": 15,
   "id": "aa8def55-f8ae-4d02-a12a-b0f02c033342",
   "metadata": {
    "ExecuteTime": {
     "end_time": "2024-11-13T13:50:54.144335Z",
     "start_time": "2024-11-13T13:50:53.866856Z"
    }
   },
   "outputs": [],
   "source": [
    "bin_types_df = spark.read.jdbc(\n",
    "    url=jdbc_url,\n",
    "    table=\"litter_bin_type\",\n",
    "    properties=connection_properties\n",
    ")\n",
    "\n",
    "bins_with_types_df = bins_df.join(\n",
    "    bin_types_df,\n",
    "    bins_df.fk_type_uuid == bin_types_df.type_uuid,\n",
    "    'left'\n",
    ").select(\n",
    "    bins_df[\"*\"],\n",
    "    bin_types_df[\"volume\"]\n",
    ")\n",
    "\n",
    "bin_type_volume = {\n",
    "    row['type_uuid']: row['volume']\n",
    "    for row in bin_types_df.collect()\n",
    "}\n"
   ]
  },
  {
   "cell_type": "code",
   "execution_count": 16,
   "id": "649febfb8cbf4dce",
   "metadata": {
    "ExecuteTime": {
     "end_time": "2024-11-13T13:50:54.160056Z",
     "start_time": "2024-11-13T13:50:54.157175Z"
    }
   },
   "outputs": [],
   "source": [
    "def get_full_notifications_count(row, current, event):\n",
    "    inner_square = row['is_in_inner_square']\n",
    "    outer_square = row['is_in_outer_square']\n",
    "    weekday = current.weekday()  # Monday is 0, Sunday is 6\n",
    "\n",
    "    if inner_square:\n",
    "        if event:\n",
    "            # During events: 7 to 30 notifications\n",
    "            return random.randint(7, 30)\n",
    "        elif weekday >= 5:\n",
    "            # Weekends: 2 to 15 notifications\n",
    "            return random.randint(2, 15)\n",
    "        else:\n",
    "            # Weekdays: 0 to 4 notifications\n",
    "            return random.randint(0, 4)\n",
    "    elif outer_square:\n",
    "        # 0 or 1 notification per day, more likely 0\n",
    "        return random.choices([0, 1], weights=[0.7, 0.3])[0]\n",
    "    else:\n",
    "        # Bins outside both squares: no notifications or set a default\n",
    "        return 0\n"
   ]
  },
  {
   "cell_type": "code",
   "execution_count": 17,
   "id": "9809571d-78bb-4d6b-aa8f-82a3ea7883ad",
   "metadata": {
    "ExecuteTime": {
     "end_time": "2024-11-13T13:50:59.540988Z",
     "start_time": "2024-11-13T13:50:54.173725Z"
    }
   },
   "outputs": [
    {
     "data": {
      "text/plain": [
       "Row(state_uuid='83461590-88e8-4344-897c-c44ccb423fea', litter_bin_uuid='8431c864-7ea2-4a9d-9e96-855113736445', point_in_time=datetime.datetime(2023, 11, 15, 14, 2), notification_type='full', volume=240)"
      ]
     },
     "execution_count": 17,
     "metadata": {},
     "output_type": "execute_result"
    }
   ],
   "source": [
    "bin_state_notification_rows = []\n",
    "bins_full_notification_dates = {}\n",
    "\n",
    "bins = bins_with_types_df.collect()\n",
    "\n",
    "# Generate \"full\" events\n",
    "for bin_row in bins:\n",
    "    bin_uuid = bin_row['litter_bin_uuid']\n",
    "    fk_type_uuid = bin_row['fk_type_uuid']\n",
    "    bin_volume = bin_type_volume.get(fk_type_uuid, 50)  # Default to 50 if not found\n",
    "\n",
    "    current_date = start_date\n",
    "    while current_date <= end_date:\n",
    "        events_today = []\n",
    "        # Check for events affecting the bin today\n",
    "        if bin_row['fastnacht'] and is_within_event(current_date, 'fastnacht'):\n",
    "            events_today.append('fastnacht')\n",
    "        if bin_row['braderie'] and is_within_event(current_date, 'braderie'):\n",
    "            events_today.append('braderie')\n",
    "        if bin_row['christmas_market'] and is_within_event(current_date, 'christmas_market'):\n",
    "            events_today.append('christmas_market')\n",
    "        if bin_row['barbecue_season'] and is_within_event(current_date, 'barbecue_season'):\n",
    "            events_today.append('barbecue_season')\n",
    "\n",
    "        # Determine if an event is happening today for this bin\n",
    "        event_happening = len(events_today) > 0\n",
    "\n",
    "        num_full_notifications = get_full_notifications_count(bin_row, current_date, event_happening)\n",
    "\n",
    "        for _ in range(num_full_notifications):\n",
    "            notification_uuid = str(uuid.uuid4())\n",
    "            fk_litter_bin_uuid = bin_uuid\n",
    "            volume = bin_volume  # Assuming bin is full\n",
    "            # Random time during the day (00:00 to 23:59)\n",
    "            hour = random.randint(0, 23)\n",
    "            minute = random.randint(0, 59)\n",
    "            point_in_time = datetime.datetime.combine(\n",
    "                current_date.date(),\n",
    "                datetime.time(hour=hour, minute=minute)\n",
    "            )\n",
    "            bin_state_notification_rows.append((notification_uuid, fk_litter_bin_uuid, point_in_time, 'full', volume))\n",
    "\n",
    "        # Record if the bin received a 'full' notification today\n",
    "        if num_full_notifications > 0:\n",
    "            if bin_uuid not in bins_full_notification_dates:\n",
    "                bins_full_notification_dates[bin_uuid] = set()\n",
    "            bins_full_notification_dates[bin_uuid].add(current_date.date())\n",
    "\n",
    "        # Move to the next day\n",
    "        current_date += datetime.timedelta(days=1)\n",
    "\n",
    "# Generate \"emptying\" events (if on the day before at 04:30 a full event occured a emptying event gets appended)\n",
    "for bin_uuid in bins_full_notification_dates:\n",
    "    full_notification_dates = bins_full_notification_dates[bin_uuid]\n",
    "    for date in full_notification_dates:\n",
    "        # Next day\n",
    "        next_day = date + datetime.timedelta(days=1)\n",
    "        if next_day > end_date.date():\n",
    "            continue  # Skip if next day is beyond the end date\n",
    "        # Generate 'emptied' notification between 04:30 and 13:00\n",
    "        hour = random.randint(4, 12)\n",
    "        if hour == 4:\n",
    "            minute = random.randint(30, 59)\n",
    "        else:\n",
    "            minute = random.randint(0, 59)\n",
    "        point_in_time = datetime.datetime.combine(\n",
    "            next_day,\n",
    "            datetime.time(hour=hour, minute=minute)\n",
    "        )\n",
    "        notification_uuid = str(uuid.uuid4())\n",
    "        fk_litter_bin_uuid = bin_uuid\n",
    "        volume = 0  # Assuming bin is emptied\n",
    "        bin_state_notification_rows.append((notification_uuid, fk_litter_bin_uuid, point_in_time, 'emptied', volume))\n",
    "\n",
    "bin_state_notification_schema = StructType([\n",
    "    StructField(\"state_uuid\", StringType(), False),\n",
    "    StructField(\"litter_bin_uuid\", StringType(), False),\n",
    "    StructField(\"point_in_time\", TimestampType(), False),\n",
    "    StructField(\"notification_type\", StringType(), False),\n",
    "    StructField(\"volume\", IntegerType(), False),\n",
    "])\n",
    "\n",
    "bin_state_notification_df = spark.createDataFrame(\n",
    "    bin_state_notification_rows,\n",
    "    schema=bin_state_notification_schema\n",
    ")\n",
    "bin_state_notification_df.head()"
   ]
  },
  {
   "cell_type": "code",
   "execution_count": 18,
   "id": "d5e2d3bc774af1ea",
   "metadata": {
    "ExecuteTime": {
     "end_time": "2024-11-13T13:51:00.059107Z",
     "start_time": "2024-11-13T13:50:59.553654Z"
    }
   },
   "outputs": [
    {
     "data": {
      "text/plain": [
       "238542"
      ]
     },
     "execution_count": 18,
     "metadata": {},
     "output_type": "execute_result"
    }
   ],
   "source": "bin_state_notification_df.count()"
  },
  {
   "cell_type": "markdown",
   "id": "0e49280b-f5e9-4a06-a821-90e1a5822bb7",
   "metadata": {},
   "source": [
    "## Write to database"
   ]
  },
  {
   "cell_type": "code",
   "execution_count": 19,
   "id": "9086b465-6829-465d-936b-26fd3548fca7",
   "metadata": {
    "ExecuteTime": {
     "end_time": "2024-11-13T13:51:00.077492Z",
     "start_time": "2024-11-13T13:51:00.075718Z"
    }
   },
   "outputs": [],
   "source": [
    "bin_state_notification_df.write.jdbc(\n",
    "    url=jdbc_url,\n",
    "    table=\"bin_state_notification\",\n",
    "    mode=\"append\",\n",
    "    properties=connection_properties\n",
    ")\n"
   ]
  },
  {
   "cell_type": "markdown",
   "id": "bc8c35019f5fb3b0",
   "metadata": {},
   "source": [
    "## Verify data"
   ]
  },
  {
   "cell_type": "code",
   "execution_count": 20,
   "id": "9212682b598431a7",
   "metadata": {
    "ExecuteTime": {
     "end_time": "2024-11-13T13:51:01.591051Z",
     "start_time": "2024-11-13T13:51:00.089785Z"
    }
   },
   "outputs": [
    {
     "name": "stdout",
     "output_type": "stream",
     "text": [
      "+--------------------+--------------------+-------------------+-----------------+------+\n",
      "|          state_uuid|     litter_bin_uuid|      point_in_time|notification_type|volume|\n",
      "+--------------------+--------------------+-------------------+-----------------+------+\n",
      "|907d9795-37d0-4f3...|bb4599c3-d493-4b6...|2024-11-12 11:26:00|          emptied|     0|\n",
      "|153ecb1f-98e9-48a...|859785d7-bc6a-49a...|2024-05-29 08:51:00|             full|    40|\n",
      "|0d11aea7-1bc1-49d...|fb69ac12-c2bd-4c7...|2024-04-20 10:34:00|             full|    40|\n",
      "|90dd5b12-4f56-46d...|6e70cbd2-ac1d-4b2...|2024-01-23 17:13:00|             full|   110|\n",
      "|da0f9880-7d68-480...|7ac9c9b0-203f-49c...|2023-12-18 07:38:00|             full|   110|\n",
      "|9f770dce-fdf1-472...|68c70a5b-7a46-486...|2024-05-12 09:27:00|          emptied|     0|\n",
      "|12067b56-5c44-499...|3a681503-68dd-4cc...|2024-01-03 11:00:00|          emptied|     0|\n",
      "|83461590-88e8-434...|8431c864-7ea2-4a9...|2023-11-15 14:02:00|             full|   240|\n",
      "|03744061-567f-4ea...|67079ee3-9491-422...|2024-08-25 20:20:00|             full|   110|\n",
      "|5e35bbfe-dea3-41b...|691737dd-3069-42e...|2024-01-27 07:56:00|             full|    40|\n",
      "|26d85fc0-7e51-4f8...|fb69ac12-c2bd-4c7...|2024-04-20 03:27:00|             full|    40|\n",
      "|ac6b66a4-8e70-4ac...|fb69ac12-c2bd-4c7...|2024-04-20 04:56:00|             full|    40|\n",
      "|4ab1ba50-c762-4e3...|fb69ac12-c2bd-4c7...|2024-04-21 04:38:00|             full|    40|\n",
      "|3e3a1367-9097-469...|fb69ac12-c2bd-4c7...|2024-04-21 00:52:00|             full|    40|\n",
      "|ca37062f-6ec6-446...|fb69ac12-c2bd-4c7...|2024-04-21 01:07:00|             full|    40|\n",
      "|96918fd6-eef0-48c...|fb69ac12-c2bd-4c7...|2024-04-21 15:09:00|             full|    40|\n",
      "|fc2c5bef-4fff-43f...|fb69ac12-c2bd-4c7...|2024-04-21 14:09:00|             full|    40|\n",
      "|8dd20e3c-dbfc-4ec...|fb69ac12-c2bd-4c7...|2024-04-21 10:39:00|             full|    40|\n",
      "|07d2c330-d9e2-494...|fb69ac12-c2bd-4c7...|2024-04-21 14:23:00|             full|    40|\n",
      "|107ecf42-1a9a-45d...|fb69ac12-c2bd-4c7...|2024-04-21 11:32:00|             full|    40|\n",
      "+--------------------+--------------------+-------------------+-----------------+------+\n",
      "only showing top 20 rows\n",
      "\n"
     ]
    }
   ],
   "source": [
    "bin_state_df = spark.read.jdbc(\n",
    "    url=jdbc_url,\n",
    "    table=\"bin_state_notification\",\n",
    "    properties=connection_properties\n",
    ")\n",
    "\n",
    "bin_state_df.show()"
   ]
  },
  {
   "cell_type": "markdown",
   "id": "ba7f422af98ecbe3",
   "metadata": {},
   "source": [
    "## Plot a random bin"
   ]
  },
  {
   "cell_type": "code",
   "execution_count": 21,
   "id": "ce4a0818-7c9e-4f84-94c3-f39b03529f04",
   "metadata": {
    "ExecuteTime": {
     "end_time": "2024-11-13T13:51:04.533295Z",
     "start_time": "2024-11-13T13:51:01.609310Z"
    }
   },
   "outputs": [
    {
     "name": "stdout",
     "output_type": "stream",
     "text": [
      "Selected Bin UUID: a829cd1b-944c-4f34-9f7f-7ee192e92b40\n"
     ]
    },
    {
     "data": {
      "image/png": "[encoded data removed]",
      "text/plain": [
       "<Figure size 1500x500 with 1 Axes>"
      ]
     },
     "metadata": {},
     "output_type": "display_data"
    }
   ],
   "source": [
    "import matplotlib.pyplot as plt\n",
    "import matplotlib.dates as mdates\n",
    "import pandas as pd\n",
    "\n",
    "inner_square_bins_df = bins_with_types_df.filter(bins_with_types_df.is_in_inner_square == True)\n",
    "inner_square_bin_uuids = [row['litter_bin_uuid'] for row in inner_square_bins_df.select('litter_bin_uuid').collect()]\n",
    "random_bin_uuid = random.choice(inner_square_bin_uuids)\n",
    "print(f\"Selected Bin UUID: {random_bin_uuid}\")\n",
    "\n",
    "bin_state_notification_df = spark.read.jdbc(\n",
    "    url=jdbc_url,\n",
    "    table=\"bin_state_notification\",\n",
    "    properties=connection_properties\n",
    ")\n",
    "bin_notifications_df = bin_state_notification_df.filter(\n",
    "    bin_state_notification_df.litter_bin_uuid == random_bin_uuid\n",
    ").orderBy('point_in_time')\n",
    "\n",
    "bin_notifications_pd = bin_notifications_df.select(\n",
    "    'point_in_time', 'notification_type'\n",
    ").toPandas()\n",
    "bin_notifications_pd['point_in_time'] = pd.to_datetime(bin_notifications_pd['point_in_time'])\n",
    "bin_notifications_pd.set_index('point_in_time', inplace=True)\n",
    "\n",
    "bin_notifications_pd = bin_notifications_pd.sort_index()\n",
    "\n",
    "fill_levels = []\n",
    "current_fill_level = 0\n",
    "\n",
    "for notification_type in bin_notifications_pd['notification_type']:\n",
    "    if notification_type == 'full':\n",
    "        current_fill_level += 1  # Increment fill level\n",
    "    elif notification_type == 'emptied':\n",
    "        current_fill_level = 0   # Reset fill level to zero\n",
    "    fill_levels.append(current_fill_level)\n",
    "\n",
    "bin_notifications_pd['fill_level'] = fill_levels\n",
    "\n",
    "plt.figure(figsize=(15, 5))\n",
    "plt.step(\n",
    "    bin_notifications_pd.index,\n",
    "    bin_notifications_pd['fill_level'],\n",
    "    where='post',\n",
    "    label='Fill Level'\n",
    ")\n",
    "\n",
    "plt.gca().xaxis.set_major_formatter(mdates.DateFormatter('%Y-%m-%d'))\n",
    "plt.gca().xaxis.set_major_locator(mdates.AutoDateLocator())\n",
    "plt.xticks(rotation=45)\n",
    "\n",
    "plt.title(f'Bin Fill Level Over Time for Bin {random_bin_uuid}')\n",
    "plt.xlabel('Date')\n",
    "plt.ylabel('Fill Level (Notifications)')\n",
    "plt.grid(True)\n",
    "plt.legend()\n",
    "plt.tight_layout()\n",
    "plt.show()"
   ]
  },
  {
   "cell_type": "code",
   "execution_count": null,
   "id": "6613ab032c507fcc",
   "metadata": {
    "ExecuteTime": {
     "end_time": "2024-11-13T13:51:04.552463Z",
     "start_time": "2024-11-13T13:51:04.550720Z"
    }
   },
   "outputs": [],
   "source": []
  }
 ],
 "metadata": {
  "celltoolbar": "Slideshow",
  "kernelspec": {
   "display_name": "Python 3 (ipykernel)",
   "language": "python",
   "name": "python3"
  },
  "language_info": {
   "codemirror_mode": {
    "name": "ipython",
    "version": 3
   },
   "file_extension": ".py",
   "mimetype": "text/x-python",
   "name": "python",
   "nbconvert_exporter": "python",
   "pygments_lexer": "ipython3",
   "version": "3.11.8"
  }
 },
 "nbformat": 4,
 "nbformat_minor": 5
}
