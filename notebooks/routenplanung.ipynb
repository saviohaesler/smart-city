{
 "cells": [
  {
   "cell_type": "markdown",
   "source": [
    "## Routenplanung"
   ],
   "metadata": {
    "collapsed": false
   },
   "id": "77708a2d5a675c72"
  },
  {
   "cell_type": "markdown",
   "source": [
    "## Set Path for Imports"
   ],
   "metadata": {
    "collapsed": false
   },
   "id": "5e2988a036ac567d"
  },
  {
   "cell_type": "code",
   "outputs": [],
   "source": [
    "import sys\n",
    "\n",
    "sys.path.insert(0, \"./work\")"
   ],
   "metadata": {
    "collapsed": false,
    "ExecuteTime": {
     "end_time": "2024-11-14T15:30:16.454089Z",
     "start_time": "2024-11-14T15:30:16.450378Z"
    }
   },
   "id": "ffbd39a294cf3233",
   "execution_count": 25
  },
  {
   "cell_type": "markdown",
   "source": [
    "## Imports"
   ],
   "metadata": {
    "collapsed": false
   },
   "id": "fb961d62165a0a57"
  },
  {
   "cell_type": "code",
   "outputs": [],
   "source": [
    "from ortools.constraint_solver import routing_enums_pb2\n",
    "from ortools.constraint_solver import pywrapcp\n",
    "from pyspark.sql import SparkSession, DataFrame\n",
    "import folium\n",
    "import requests\n",
    "import polyline\n",
    "\n",
    "from lib.utils import get_coordinates, create_distance_matrix"
   ],
   "metadata": {
    "collapsed": false,
    "ExecuteTime": {
     "end_time": "2024-11-14T15:30:16.465035Z",
     "start_time": "2024-11-14T15:30:16.459768Z"
    }
   },
   "id": "76cdc95ea523126e",
   "execution_count": 26
  },
  {
   "cell_type": "markdown",
   "source": [
    "## Setup Spark"
   ],
   "metadata": {
    "collapsed": false
   },
   "id": "91dbae3a95fdbd80"
  },
  {
   "cell_type": "code",
   "outputs": [],
   "source": [
    "spark = SparkSession.builder \\\n",
    "    .appName(\"SmartLitter\") \\\n",
    "    .getOrCreate()\n",
    "\n",
    "jdbc_url = \"jdbc:postgresql://db:5432/litter_db\"\n",
    "connection_properties = {\n",
    "    \"user\": \"root\",\n",
    "    \"password\": \"pwd123\",\n",
    "    \"driver\": \"org.postgresql.Driver\"\n",
    "}"
   ],
   "metadata": {
    "collapsed": false,
    "ExecuteTime": {
     "end_time": "2024-11-14T15:30:16.479179Z",
     "start_time": "2024-11-14T15:30:16.473295Z"
    }
   },
   "id": "9b083cfbeee6f0f8",
   "execution_count": 27
  },
  {
   "cell_type": "markdown",
   "source": [
    "## Load Data"
   ],
   "metadata": {
    "collapsed": false
   },
   "id": "987795ca4e016ce"
  },
  {
   "cell_type": "code",
   "outputs": [],
   "source": [
    "df = spark.read.jdbc(url=jdbc_url, table=\"public.litter_bin_geoposition\", properties=connection_properties)\n",
    "\n",
    "df = df.sort(df.geom_point)"
   ],
   "metadata": {
    "collapsed": false,
    "ExecuteTime": {
     "end_time": "2024-11-14T15:30:16.598241Z",
     "start_time": "2024-11-14T15:30:16.480436Z"
    }
   },
   "id": "d3b20acbab2a6ec1",
   "execution_count": 28
  },
  {
   "cell_type": "markdown",
   "source": [
    "## Create Data Model"
   ],
   "metadata": {
    "collapsed": false
   },
   "id": "ad76dbf4de1b59d5"
  },
  {
   "cell_type": "code",
   "outputs": [],
   "source": [
    "def create_data_model(coordinates: list[tuple[float, float]]) -> dict:\n",
    "    \"\"\"Stores the data for the problem.\"\"\"\n",
    "    data = {}\n",
    "    data[\"distance_matrix\"] = create_distance_matrix(coordinates)\n",
    "    data[\"coordinates\"] = coordinates\n",
    "    data[\"num_vehicles\"] = 1\n",
    "    data[\"depot\"] = 0\n",
    "    data[\"shape\"] = (len(data[\"distance_matrix\"]), len(data[\"distance_matrix\"][0]))\n",
    "    return data"
   ],
   "metadata": {
    "collapsed": false,
    "ExecuteTime": {
     "end_time": "2024-11-14T15:30:16.603047Z",
     "start_time": "2024-11-14T15:30:16.599121Z"
    }
   },
   "id": "a8ec69c152997c58",
   "execution_count": 29
  },
  {
   "cell_type": "markdown",
   "source": [
    "## Get Coordinates and Create Data Model"
   ],
   "metadata": {
    "collapsed": false
   },
   "id": "a04669433fc8bd49"
  },
  {
   "cell_type": "code",
   "outputs": [],
   "source": [
    "coordinates: list[tuple[float, float]] = get_coordinates(df.limit(60))\n",
    "\n",
    "data: dict = create_data_model(coordinates)"
   ],
   "metadata": {
    "collapsed": false,
    "ExecuteTime": {
     "end_time": "2024-11-14T15:30:16.852385Z",
     "start_time": "2024-11-14T15:30:16.604662Z"
    }
   },
   "id": "4d48c026e3876c13",
   "execution_count": 30
  },
  {
   "cell_type": "markdown",
   "source": [
    "## Solve the Problem"
   ],
   "metadata": {
    "collapsed": false
   },
   "id": "5921cdb6e255fb65"
  },
  {
   "cell_type": "code",
   "outputs": [
    {
     "name": "stdout",
     "output_type": "stream",
     "text": [
      "Objective: 23286 meters\n",
      "Route for vehicle 1:\n",
      " 0 -> 31 -> 19 -> 9 -> 20 -> 45 -> 7 -> 21 -> 52 -> 60 -> 22 -> 25 -> 11 -> 53 -> 56 -> 55 -> 37 -> 39 -> 46 -> 18 -> 26 -> 38 -> 33 -> 50 -> 23 -> 51 -> 27 -> 48 -> 44 -> 54 -> 34 -> 36 -> 32 -> 5 -> 59 -> 40 -> 41 -> 28 -> 42 -> 30 -> 2 -> 16 -> 8 -> 17 -> 58 -> 24 -> 4 -> 15 -> 47 -> 35 -> 43 -> 1 -> 12 -> 6 -> 10 -> 13 -> 49 -> 14 -> 3 -> 29 -> 57 -> 0\n"
     ]
    }
   ],
   "source": [
    "coords: list[tuple[float, float]] = []\n",
    "\n",
    "def print_solution(manager, routing, solution):\n",
    "    \"\"\"Prints solution on console.\"\"\"\n",
    "    print(f\"Objective: {solution.ObjectiveValue()} meters\")\n",
    "    index = routing.Start(0)\n",
    "    plan_output = \"Route for vehicle 1:\\n\"\n",
    "    route_distance = 0\n",
    "    while not routing.IsEnd(index):\n",
    "        plan_output += f\" {manager.IndexToNode(index)} ->\"\n",
    "        coords.append(data[\"coordinates\"][manager.IndexToNode(index)])\n",
    "        previous_index = index\n",
    "        index = solution.Value(routing.NextVar(index))\n",
    "        route_distance += routing.GetArcCostForVehicle(previous_index, index, 0)\n",
    "    coords.append(data[\"coordinates\"][manager.IndexToNode(index)])\n",
    "    plan_output += f\" {manager.IndexToNode(index)}\\n\"\n",
    "    print(plan_output)\n",
    "    plan_output += f\"Route distance: {route_distance}meters\\n\"\n",
    " \n",
    " \n",
    "def main():\n",
    "    \"\"\"Entry point of the program.\"\"\"\n",
    "    manager = pywrapcp.RoutingIndexManager(\n",
    "        len(data[\"distance_matrix\"]), data[\"num_vehicles\"], data[\"depot\"]\n",
    "    )\n",
    "\n",
    "    routing = pywrapcp.RoutingModel(manager)\n",
    "\n",
    "    def distance_callback(from_index, to_index):\n",
    "        \"\"\"Returns the distance between the two nodes.\"\"\"\n",
    "        # Convert from routing variable Index to distance matrix NodeIndex.\n",
    "        from_node = manager.IndexToNode(from_index)\n",
    "        to_node = manager.IndexToNode(to_index)\n",
    "        return data[\"distance_matrix\"][from_node][to_node]\n",
    " \n",
    "    transit_callback_index = routing.RegisterTransitCallback(distance_callback)\n",
    "\n",
    "    routing.SetArcCostEvaluatorOfAllVehicles(transit_callback_index)\n",
    "\n",
    "    search_parameters = pywrapcp.DefaultRoutingSearchParameters()\n",
    "    search_parameters.first_solution_strategy = (\n",
    "        routing_enums_pb2.FirstSolutionStrategy.PATH_CHEAPEST_ARC\n",
    "    )\n",
    "\n",
    "    solution = routing.SolveWithParameters(search_parameters)\n",
    "\n",
    "    if solution:\n",
    "        print_solution(manager, routing, solution)\n",
    " \n",
    " \n",
    "if __name__ == \"__main__\":\n",
    "    main()"
   ],
   "metadata": {
    "collapsed": false,
    "ExecuteTime": {
     "end_time": "2024-11-14T15:30:16.935014Z",
     "start_time": "2024-11-14T15:30:16.853464Z"
    }
   },
   "id": "422d773e0e6a6490",
   "execution_count": 31
  },
  {
   "cell_type": "markdown",
   "source": [
    "## Display Route on Map"
   ],
   "metadata": {
    "collapsed": false
   },
   "id": "764f0a9a2a11763d"
  },
  {
   "cell_type": "code",
   "outputs": [],
   "source": [
    "# Format coordinates for the OSRM API\n",
    "coordinate_string = \";\".join([f\"{lat},{lng}\" for lng, lat in coords])\n",
    " \n",
    "# Request route from OSRM API\n",
    "url = f\"http://router.project-osrm.org/route/v1/driving/{coordinate_string}?overview=full\"\n",
    "response = requests.get(url)\n",
    "route_data = response.json()\n",
    " \n",
    "# Extract and decode the polyline of the route\n",
    "encoded_polyline = route_data['routes'][0]['geometry']\n",
    "decoded_route = polyline.decode(encoded_polyline)\n",
    " \n",
    "# Create a Folium map centered at the first coordinate\n",
    "start_lat, start_lng = coords[0]\n",
    "m = folium.Map(location=[start_lat, start_lng], zoom_start=13)\n",
    " \n",
    "# Add the route as a polyline to the map\n",
    "folium.PolyLine(\n",
    "    locations=decoded_route,  # Use the decoded coordinates\n",
    "    color='blue',\n",
    "    weight=4,\n",
    "    opacity=0.7\n",
    ").add_to(m)\n",
    " \n",
    " \n",
    " \n",
    "# Add a marker for the start point\n",
    "folium.Marker(\n",
    "    location=coords[0],\n",
    "    popup=\"Start/Ende\",\n",
    "    icon=folium.Icon(color=\"green\", icon=\"play\"),\n",
    ").add_to(m)\n",
    " \n",
    "# Add markers for intermediate waypoints\n",
    "for point in coords[1:-1]:\n",
    "    folium.Marker(\n",
    "        location=point,\n",
    "        popup=\"Kübel\",\n",
    "        icon=folium.Icon(color=\"blue\", icon=\"map-marker\"),\n",
    "    ).add_to(m)\n",
    " \n",
    "# Add a marker for the end point\n",
    " \n",
    " \n",
    "# Save the map to an HTML file or display it in a Jupyter notebook\n",
    "m.save(\"data/osrm_route_map.html\")"
   ],
   "metadata": {
    "collapsed": false,
    "ExecuteTime": {
     "end_time": "2024-11-14T15:30:17.070110Z",
     "start_time": "2024-11-14T15:30:16.935893Z"
    }
   },
   "id": "6e0b4fcb59798002",
   "execution_count": 32
  }
 ],
 "metadata": {
  "kernelspec": {
   "display_name": "Python 3",
   "language": "python",
   "name": "python3"
  },
  "language_info": {
   "codemirror_mode": {
    "name": "ipython",
    "version": 2
   },
   "file_extension": ".py",
   "mimetype": "text/x-python",
   "name": "python",
   "nbconvert_exporter": "python",
   "pygments_lexer": "ipython2",
   "version": "2.7.6"
  }
 },
 "nbformat": 4,
 "nbformat_minor": 5
}
