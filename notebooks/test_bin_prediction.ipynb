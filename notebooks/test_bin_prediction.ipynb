{
 "cells": [
  {
   "cell_type": "code",
   "execution_count": 1,
   "id": "63655481-8c02-422e-b8ff-bb73a6cbd397",
   "metadata": {},
   "outputs": [],
   "source": [
    "from lib.bin import BinFullPredictor\n",
    "from pyspark.sql.functions import col"
   ]
  },
  {
   "cell_type": "code",
   "execution_count": 2,
   "id": "21d01d30-15ce-416d-a1d8-fb9b69eba004",
   "metadata": {},
   "outputs": [
    {
     "name": "stderr",
     "output_type": "stream",
     "text": [
      "----------------------------------------\n",
      "Exception occurred during processing of request from ('127.0.0.1', 42438)\n",
      "Traceback (most recent call last):\n",
      "  File \"/opt/conda/lib/python3.11/socketserver.py\", line 317, in _handle_request_noblock\n",
      "    self.process_request(request, client_address)\n",
      "  File \"/opt/conda/lib/python3.11/socketserver.py\", line 348, in process_request\n",
      "    self.finish_request(request, client_address)\n",
      "  File \"/opt/conda/lib/python3.11/socketserver.py\", line 361, in finish_request\n",
      "    self.RequestHandlerClass(request, client_address, self)\n",
      "  File \"/opt/conda/lib/python3.11/socketserver.py\", line 755, in __init__\n",
      "    self.handle()\n",
      "  File \"/usr/local/spark/python/pyspark/accumulators.py\", line 295, in handle\n",
      "    poll(accum_updates)\n",
      "  File \"/usr/local/spark/python/pyspark/accumulators.py\", line 267, in poll\n",
      "    if self.rfile in r and func():\n",
      "                           ^^^^^^\n",
      "  File \"/usr/local/spark/python/pyspark/accumulators.py\", line 271, in accum_updates\n",
      "    num_updates = read_int(self.rfile)\n",
      "                  ^^^^^^^^^^^^^^^^^^^^\n",
      "  File \"/usr/local/spark/python/pyspark/serializers.py\", line 596, in read_int\n",
      "    raise EOFError\n",
      "EOFError\n",
      "----------------------------------------\n"
     ]
    }
   ],
   "source": [
    "predictor = BinFullPredictor()"
   ]
  },
  {
   "cell_type": "code",
   "execution_count": 3,
   "id": "d1b091a4-296f-4c33-8dae-7387b1b1f65a",
   "metadata": {},
   "outputs": [
    {
     "name": "stdout",
     "output_type": "stream",
     "text": [
      "+--------------------+-------+\n",
      "|     litter_bin_uuid|is_full|\n",
      "+--------------------+-------+\n",
      "|01c83801-b6b1-461...|  false|\n",
      "|03b81394-2510-443...|  false|\n",
      "|04d5b3a6-5e41-460...|  false|\n",
      "|04f781a6-6fa3-411...|  false|\n",
      "|069b61bb-f0c9-452...|   true|\n",
      "|06d073b3-7c35-4b4...|  false|\n",
      "|06ec6ff5-572c-487...|   true|\n",
      "|072717ea-f6c7-45d...|   true|\n",
      "|07ed5358-07bc-437...|  false|\n",
      "|0834772a-159d-4e7...|  false|\n",
      "|092deae5-77ad-49c...|   true|\n",
      "|0954074f-1c88-4d3...|  false|\n",
      "|09bd99c3-8e0f-470...|  false|\n",
      "|0a320855-67ab-415...|  false|\n",
      "|0a36208e-b062-4b2...|  false|\n",
      "|0a7ea5db-e202-4c4...|  false|\n",
      "|0aa9c72b-f00a-48b...|  false|\n",
      "|0b13e3e1-741e-433...|  false|\n",
      "|0c5e6808-42e9-480...|  false|\n",
      "|0c82b4a5-d21b-4ae...|   true|\n",
      "+--------------------+-------+\n",
      "only showing top 20 rows\n",
      "\n"
     ]
    }
   ],
   "source": [
    "prediction = predictor.get_all_bin_predictions(delta_hours=0)\n",
    "\n",
    "prediction.show()"
   ]
  },
  {
   "cell_type": "code",
   "execution_count": 4,
   "id": "cdb4baf3-f574-4f1e-be73-ab53552a15c7",
   "metadata": {},
   "outputs": [
    {
     "data": {
      "text/plain": [
       "125"
      ]
     },
     "execution_count": 4,
     "metadata": {},
     "output_type": "execute_result"
    }
   ],
   "source": [
    "prediction.where(col(\"is_full\") == True).count()"
   ]
  },
  {
   "cell_type": "code",
   "execution_count": 5,
   "id": "efec1100-bd17-416e-b118-792239ba91d1",
   "metadata": {},
   "outputs": [
    {
     "data": {
      "text/plain": [
       "160"
      ]
     },
     "execution_count": 5,
     "metadata": {},
     "output_type": "execute_result"
    }
   ],
   "source": [
    "prediction = predictor.get_all_bin_predictions(delta_hours=10)\n",
    "\n",
    "prediction.where(col(\"is_full\") == True).count()"
   ]
  }
 ],
 "metadata": {
  "kernelspec": {
   "display_name": "Python 3 (ipykernel)",
   "language": "python",
   "name": "python3"
  },
  "language_info": {
   "codemirror_mode": {
    "name": "ipython",
    "version": 3
   },
   "file_extension": ".py",
   "mimetype": "text/x-python",
   "name": "python",
   "nbconvert_exporter": "python",
   "pygments_lexer": "ipython3",
   "version": "3.11.8"
  }
 },
 "nbformat": 4,
 "nbformat_minor": 5
}
