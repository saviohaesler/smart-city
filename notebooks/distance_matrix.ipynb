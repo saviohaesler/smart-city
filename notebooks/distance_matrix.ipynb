{
 "cells": [
  {
   "cell_type": "markdown",
   "id": "d4ea8f4b87e98faf",
   "metadata": {
    "collapsed": false
   },
   "source": [
    "# Calculate Distance Matrix"
   ]
  },
  {
   "cell_type": "code",
   "execution_count": 13,
   "id": "ab7a2c1d11216968",
   "metadata": {
    "collapsed": false,
    "ExecuteTime": {
     "end_time": "2024-11-14T15:02:29.673369Z",
     "start_time": "2024-11-14T15:02:29.668404Z"
    }
   },
   "outputs": [],
   "source": [
    "import sys\n",
    "\n",
    "sys.path.insert(0, \"./work\")"
   ]
  },
  {
   "cell_type": "markdown",
   "id": "2c895409906b6a8f",
   "metadata": {
    "collapsed": false
   },
   "source": [
    "## Imports"
   ]
  },
  {
   "cell_type": "code",
   "execution_count": 14,
   "id": "initial_id",
   "metadata": {
    "ExecuteTime": {
     "end_time": "2024-11-14T15:02:29.678353Z",
     "start_time": "2024-11-14T15:02:29.675631Z"
    }
   },
   "outputs": [],
   "source": [
    "from pyspark.sql import SparkSession\n",
    "\n",
    "from lib.utils import create_distance_matrix, get_coordinates"
   ]
  },
  {
   "cell_type": "markdown",
   "id": "dfa571103fe2f698",
   "metadata": {
    "collapsed": false
   },
   "source": [
    "## Spark Session"
   ]
  },
  {
   "cell_type": "code",
   "execution_count": 15,
   "id": "4e8883ddc70c8090",
   "metadata": {
    "collapsed": false,
    "ExecuteTime": {
     "end_time": "2024-11-14T15:02:29.684560Z",
     "start_time": "2024-11-14T15:02:29.679480Z"
    }
   },
   "outputs": [],
   "source": [
    "spark = SparkSession.builder \\\n",
    "    .appName(\"SmartLitter\") \\\n",
    "    .getOrCreate()\n",
    "\n",
    "jdbc_url = \"jdbc:postgresql://db:5432/litter_db\"\n",
    "connection_properties = {\n",
    "    \"user\": \"root\",\n",
    "    \"password\": \"pwd123\",\n",
    "    \"driver\": \"org.postgresql.Driver\"\n",
    "}"
   ]
  },
  {
   "cell_type": "markdown",
   "id": "90242c318816a612",
   "metadata": {
    "collapsed": false
   },
   "source": [
    "## Load Data"
   ]
  },
  {
   "cell_type": "code",
   "execution_count": 16,
   "id": "873efb2ac437f0ef",
   "metadata": {
    "collapsed": false,
    "ExecuteTime": {
     "end_time": "2024-11-14T15:02:29.800590Z",
     "start_time": "2024-11-14T15:02:29.685339Z"
    }
   },
   "outputs": [],
   "source": [
    "df = spark.read.jdbc(url=jdbc_url, table=\"public.litter_bin_geoposition\", properties=connection_properties)"
   ]
  },
  {
   "cell_type": "markdown",
   "id": "8101efb71a7468df",
   "metadata": {
    "collapsed": false
   },
   "source": [
    "## Schema"
   ]
  },
  {
   "cell_type": "code",
   "execution_count": 17,
   "id": "ef79d591f86dcd55",
   "metadata": {
    "collapsed": false,
    "ExecuteTime": {
     "end_time": "2024-11-14T15:02:29.805366Z",
     "start_time": "2024-11-14T15:02:29.802067Z"
    }
   },
   "outputs": [
    {
     "name": "stdout",
     "output_type": "stream",
     "text": [
      "root\n",
      " |-- litter_bin_uuid: string (nullable = true)\n",
      " |-- geom_point: string (nullable = true)\n",
      " |-- fk_type_uuid: string (nullable = true)\n",
      " |-- archive: boolean (nullable = true)\n",
      " |-- creation_date: date (nullable = true)\n",
      " |-- end_date: date (nullable = true)\n",
      " |-- active: boolean (nullable = true)\n",
      " |-- fastnacht: short (nullable = true)\n",
      " |-- braderie: short (nullable = true)\n",
      " |-- christmas_market: short (nullable = true)\n",
      " |-- barbecue_season: short (nullable = true)\n",
      " |-- bin_full: boolean (nullable = true)\n",
      " |-- robidog_empty: boolean (nullable = true)\n",
      " |-- ashtray_full: boolean (nullable = true)\n",
      " |-- defect: boolean (nullable = true)\n",
      " |-- dirty: boolean (nullable = true)\n",
      " |-- id_nr: integer (nullable = true)\n"
     ]
    }
   ],
   "source": [
    "df.printSchema()"
   ]
  },
  {
   "cell_type": "markdown",
   "id": "d75f9dae2a636886",
   "metadata": {
    "collapsed": false
   },
   "source": [
    "## Main"
   ]
  },
  {
   "cell_type": "code",
   "execution_count": 18,
   "id": "129a5985dc27c034",
   "metadata": {
    "collapsed": false,
    "ExecuteTime": {
     "end_time": "2024-11-14T15:02:29.954354Z",
     "start_time": "2024-11-14T15:02:29.806564Z"
    }
   },
   "outputs": [
    {
     "name": "stdout",
     "output_type": "stream",
     "text": [
      "Distance Matrix (meters):\n",
      "[[0, 1287, 2694, 316, 2455, 1817], [1287, 0, 1547, 1314, 1241, 1470], [2694, 1547, 0, 2806, 1498, 1543], [316, 1314, 2806, 0, 2389, 2073], [2455, 1241, 1498, 2389, 0, 2411], [1817, 1470, 1543, 2073, 2411, 0]]\n",
      "Shape: (6, 6)\n"
     ]
    }
   ],
   "source": [
    "df = df.sort(df.geom_point)\n",
    "\n",
    "coordinates = get_coordinates(df=df.limit(5))\n",
    "\n",
    "distance_matrix: list[list[int]] = create_distance_matrix(coordinates)\n",
    "\n",
    "print(\"Distance Matrix (meters):\")\n",
    "print(distance_matrix)\n",
    "\n",
    "print(f\"Shape: ({len(distance_matrix)}, {len(distance_matrix[0])})\")\n",
    "\n",
    "with open(\"data/distance_matrix.txt\", 'w') as file:\n",
    "        file.write(str(distance_matrix))"
   ]
  }
 ],
 "metadata": {
  "kernelspec": {
   "display_name": "Python 3 (ipykernel)",
   "language": "python",
   "name": "python3"
  },
  "language_info": {
   "codemirror_mode": {
    "name": "ipython",
    "version": 3
   },
   "file_extension": ".py",
   "mimetype": "text/x-python",
   "name": "python",
   "nbconvert_exporter": "python",
   "pygments_lexer": "ipython3",
   "version": "3.11.8"
  }
 },
 "nbformat": 4,
 "nbformat_minor": 5
}
